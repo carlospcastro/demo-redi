{
  "nbformat": 4,
  "nbformat_minor": 0,
  "metadata": {
    "colab": {
      "name": "Input statements in python.ipynb",
      "provenance": [],
      "collapsed_sections": [],
      "authorship_tag": "ABX9TyPzd6KYgr5ML5NOMkPdaa1R",
      "include_colab_link": true
    },
    "kernelspec": {
      "name": "python3",
      "display_name": "Python 3"
    },
    "language_info": {
      "name": "python"
    }
  },
  "cells": [
    {
      "cell_type": "markdown",
      "metadata": {
        "id": "view-in-github",
        "colab_type": "text"
      },
      "source": [
        "<a href=\"https://colab.research.google.com/github/carlospcastro/demo-redi/blob/Andrew%C2%B4s-branch/Input_statements_in_python.ipynb\" target=\"_parent\"><img src=\"https://colab.research.google.com/assets/colab-badge.svg\" alt=\"Open In Colab\"/></a>"
      ]
    },
    {
      "cell_type": "code",
      "execution_count": null,
      "metadata": {
        "colab": {
          "base_uri": "https://localhost:8080/"
        },
        "id": "T4vIWqmrg3NA",
        "outputId": "02d2bb6f-ac29-4b0c-b52b-540efde1f24e"
      },
      "outputs": [
        {
          "output_type": "stream",
          "name": "stdout",
          "text": [
            "Andrew\n"
          ]
        }
      ],
      "source": [
        "#python #learnprogramming #programiz\n",
        "#3: How to Take User Input in Python? | Python for Beginners\n",
        "\n",
        "# Example 1: a simple variable\n",
        "\n",
        "name = \"Andrew\"\n",
        "print(name)\n",
        "\n",
        "# In this example, we suppled the name data by ourselves to the program."
      ]
    },
    {
      "cell_type": "code",
      "source": [
        "# Example 2: Let us ask a user of our program to supply the information by themselves\n",
        "# To be able to take input from a user, we make use of the inbuilt \"input\" statement in python\n",
        "\n",
        "name = input()\n",
        "print(name)\n",
        "\n",
        "\n",
        "# with the input statement, python expects an input from a user and prints out whatever was typed after the \"enter\" button is pressed\n",
        "# notice that the name inputed\"ochagla\" was printed twice! \n",
        "# This is because, when the user typed in the nameon the prompt of th program, the value typed is first stored in the variable name(this is why we have the first\"ochagla)\n",
        "# then, the program executes the print command and prints the inputed name again( that is why we have the second \"ochagla\")\n",
        "# If the print(name) code is not written, then only one name output is given after the enter button is pressed on the keyboard by the user.\n",
        "\n",
        "\n"
      ],
      "metadata": {
        "colab": {
          "base_uri": "https://localhost:8080/"
        },
        "id": "A0XqOtE8h5VD",
        "outputId": "73ef8a71-c817-4e51-bd7a-6830645a1408"
      },
      "execution_count": null,
      "outputs": [
        {
          "output_type": "stream",
          "name": "stdout",
          "text": [
            "ochagla\n",
            "ochagla\n"
          ]
        }
      ]
    },
    {
      "cell_type": "code",
      "source": [
        "# To give a clue of which type of information we want the user of our program to input, we can do it as stated in the example below:\n",
        "\n",
        "# Example\n",
        "\n",
        "Welcome = input(\"Please enter your name: \")\n",
        "print(Welcome)\n",
        "\n",
        "\n",
        "\n",
        "\n",
        "\n",
        "\n",
        "\n"
      ],
      "metadata": {
        "colab": {
          "base_uri": "https://localhost:8080/"
        },
        "id": "stRg-j6Yl5qA",
        "outputId": "de3009fb-5e18-401e-e0be-e82e36898249"
      },
      "execution_count": null,
      "outputs": [
        {
          "output_type": "stream",
          "name": "stdout",
          "text": [
            "Please enter your name: Sandra\n",
            "Sandra\n"
          ]
        }
      ]
    },
    {
      "cell_type": "code",
      "source": [
        "Phone_number = input(\"Please enter your phone number: \")\n",
        "print(Phone_number)\n",
        "\n",
        "# Caution! with the way this code is written, if an integer or string is written(i.e number or letters), it would be accepted BECAUSE THE \"input\" FUNCTION ALWAYS TAKE VALUES IN THE string FORMAT!\n",
        "# We can ensure that only numbers(intergers are entered by using the \"int\" function before the input function)\n",
        "# This is illustrated in the next example below"
      ],
      "metadata": {
        "colab": {
          "base_uri": "https://localhost:8080/"
        },
        "id": "evQwhx5GpW3t",
        "outputId": "c70ecd9c-87c2-4620-fe3f-c7ed528e1f14"
      },
      "execution_count": null,
      "outputs": [
        {
          "output_type": "stream",
          "name": "stdout",
          "text": [
            "Please enter your phone number: +49111111111\n",
            "+49111111111\n"
          ]
        }
      ]
    },
    {
      "cell_type": "code",
      "source": [
        "# With the way the code is written now, only numbers(integers would be accepted, else an error message would be displayed)\n",
        "# This is becaus the \"int\" written befor the input function has wnsurd that only intergers or numbers are written\n",
        "\n",
        "Phone_number = int(input(\"Please enter your phone number without spaces in between the country code and numbers: \"))\n",
        "print(Phone_number)\n",
        "\n"
      ],
      "metadata": {
        "colab": {
          "base_uri": "https://localhost:8080/"
        },
        "id": "Xs2_uTVus5uq",
        "outputId": "40198908-9050-4d76-cd8a-623e19ccb5c1"
      },
      "execution_count": null,
      "outputs": [
        {
          "output_type": "stream",
          "name": "stdout",
          "text": [
            "Please enter your phone number without spaces in between the country code and numbers: +49000000000000\n",
            "49000000000000\n"
          ]
        }
      ]
    },
    {
      "cell_type": "code",
      "source": [
        "# same way, we can ensure that only \"floats\" (numbers with decimal points) are entered by using the \"float\" function befor the input function\n",
        "\n",
        "Enter_a_number_with_decimal_point = float(input(\"Please enter a decimal number: \"))\n",
        "print(Enter_a_number_with_decimal_point)\n",
        "\n",
        "\n",
        "\n",
        "\n",
        "\n",
        "\n"
      ],
      "metadata": {
        "colab": {
          "base_uri": "https://localhost:8080/"
        },
        "id": "gtopeD7Bu7da",
        "outputId": "b2d6071b-4a71-415b-b7aa-559fd95786d0"
      },
      "execution_count": null,
      "outputs": [
        {
          "output_type": "stream",
          "name": "stdout",
          "text": [
            "Please enter a decimal number: 20.666\n",
            "20.666\n"
          ]
        }
      ]
    },
    {
      "cell_type": "code",
      "source": [
        "# note! If a number with decimal point is not entered, then python converts it to a decimal number on printing\n",
        "\n",
        "Enter_a_number_with_decimal_point = float(input(\"Please enter a decimal number: \"))\n",
        "print(Enter_a_number_with_decimal_point)"
      ],
      "metadata": {
        "colab": {
          "base_uri": "https://localhost:8080/"
        },
        "id": "3XR-cjgB1ALn",
        "outputId": "731489de-f649-4a8e-a3b0-ebaf0adc91b0"
      },
      "execution_count": null,
      "outputs": [
        {
          "output_type": "stream",
          "name": "stdout",
          "text": [
            "Please enter a decimal number: 3\n",
            "3.0\n"
          ]
        }
      ]
    },
    {
      "cell_type": "code",
      "source": [
        "# class work\n",
        "# Write a function that takes in 4 numbers from a user and returns a list containing those four numbers as well as the lenght of the list.\n",
        "\n",
        "# solution:\n",
        "def list_of_4_numbers():\n",
        "  a = int(input(\"Please type in your first number: \"))\n",
        "  b = int(input(\"Please type in your second number: \"))\n",
        "  c = int(input(\"Please type in your third number: \"))\n",
        "  d = int(input(\"Please type in your fourth number: \"))\n",
        "  list_of_4_numbers = [a,b,c,d]\n",
        "  print(list_of_4_numbers)\n",
        "  print(len(list_of_4_numbers))\n",
        "\n",
        "list_of_4_numbers()\n",
        "\n",
        "\n",
        "\n",
        "\n",
        "\n"
      ],
      "metadata": {
        "colab": {
          "base_uri": "https://localhost:8080/"
        },
        "id": "0yC6q7uZ1YyA",
        "outputId": "1157fab2-74de-447d-e8bd-863a00bea98e"
      },
      "execution_count": 57,
      "outputs": [
        {
          "output_type": "stream",
          "name": "stdout",
          "text": [
            "Please type in your first number: 1000\n",
            "Please type in your second number: 2000\n",
            "Please type in your third number: 30\n",
            "Please type in your fourth number: 20\n",
            "[1000, 2000, 30, 20]\n",
            "4\n"
          ]
        }
      ]
    }
  ]
}