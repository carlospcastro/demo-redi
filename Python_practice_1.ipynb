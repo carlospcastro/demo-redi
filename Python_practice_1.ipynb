{
  "nbformat": 4,
  "nbformat_minor": 0,
  "metadata": {
    "colab": {
      "name": "Python practice 1.ipynb",
      "provenance": [],
      "collapsed_sections": [],
      "authorship_tag": "ABX9TyPyCCXhDZ7l7NHANmTg3C7g",
      "include_colab_link": true
    },
    "kernelspec": {
      "name": "python3",
      "display_name": "Python 3"
    },
    "language_info": {
      "name": "python"
    }
  },
  "cells": [
    {
      "cell_type": "markdown",
      "metadata": {
        "id": "view-in-github",
        "colab_type": "text"
      },
      "source": [
        "<a href=\"https://colab.research.google.com/github/carlospcastro/demo-redi/blob/Andrew%C2%B4s-branch/Python_practice_1.ipynb\" target=\"_parent\"><img src=\"https://colab.research.google.com/assets/colab-badge.svg\" alt=\"Open In Colab\"/></a>"
      ]
    },
    {
      "cell_type": "code",
      "execution_count": null,
      "metadata": {
        "id": "MdSE--uqZR_M",
        "colab": {
          "base_uri": "https://localhost:8080/"
        },
        "outputId": "0ae5bef5-c20e-4233-ff33-a05fd5267f3e"
      },
      "outputs": [
        {
          "output_type": "stream",
          "name": "stdout",
          "text": [
            "Intro to CS\n",
            "asdf\n",
            "270\n",
            "54\n",
            "Andrew\n",
            "Ochagla\n",
            "Andrew Ochagla\n",
            "Andrew Ochagla\n",
            "Andrew is awesome\n",
            "4\n",
            "12\n",
            "0\n",
            "6\n",
            "8\n",
            "32\n",
            "I\n",
            "8\n",
            "really\n",
            "Andrew is awesome Ochagla\n"
          ]
        }
      ],
      "source": [
        "our_class = \"Intro to CS\"\n",
        "print(our_class)\n",
        "my_var = \"asdf\"\n",
        "my_mum = my_var\n",
        "print(my_mum)\n",
        "\n",
        "c = 2+4\n",
        "\n",
        "\n",
        "b = c+2\n",
        "\n",
        "\n",
        "a = 5\n",
        "b = 5\n",
        "\n",
        "\n",
        "a += 5\n",
        "\n",
        "\n",
        "c += 2\n",
        "\n",
        "\n",
        "d = 4-3\n",
        "\n",
        "\n",
        "\n",
        "d -= 2\n",
        "\n",
        "\n",
        "e = 3*9\n",
        "\n",
        "print(e*a)\n",
        "\n",
        "print(e*2)\n",
        "e *=2\n",
        "\n",
        "\n",
        "e /=2\n",
        "\n",
        "\n",
        "q = 5\n",
        "\n",
        "\n",
        "a = 30\n",
        "mod_output = 30 % 9\n",
        "\n",
        "\n",
        "my_first_name = \"Andrew\"\n",
        "my_last_name = \"Ochagla\"\n",
        "print(my_first_name)\n",
        "print(my_last_name)\n",
        "print(my_first_name +\" \" + my_last_name)\n",
        "my_fullname = \"Andrew\" + \" \" + \"Ochagla\"\n",
        "print(my_fullname)\n",
        "\n",
        "my_first_name += \" \" + \"is awesome\"\n",
        "print(my_first_name)\n",
        "\n",
        "len(\"redi\")\n",
        "# outputs 4\n",
        "len('hello, world')\n",
        "# outputs 12\n",
        "\n",
        "print(len(\"redi\"))\n",
        "print(len(\"hello, world\"))\n",
        "\n",
        "empty = ''\n",
        "language = \"Python\"\n",
        "sentence = \"I'm a really long sentence\"\n",
        "\n",
        "print(len(''))\n",
        "print(len(\"python\"))\n",
        "print(len(\"sentence\"))\n",
        "\n",
        "total_lenght = len(\"\") + len(\"python\") + len(\"I'm a really long sentence\")\n",
        "print(total_lenght)\n",
        "\n",
        "print(sentence[0])\n",
        "\n",
        "sentence[0]\n",
        "print(len(\"sentence\"))\n",
        "\n",
        "only_really = sentence[6:12]\n",
        "print(only_really)\n",
        "\n",
        "my_fullname = (my_first_name +\" \" + my_last_name)\n",
        "print(my_fullname)\n",
        "\n"
      ]
    },
    {
      "cell_type": "code",
      "source": [
        ""
      ],
      "metadata": {
        "id": "BVryZWh1mXJ8"
      },
      "execution_count": null,
      "outputs": []
    },
    {
      "cell_type": "code",
      "source": [
        "empty = ''\n",
        "language = \"Python\"\n",
        "sentence = \"I'm a really long sentence\"\n",
        "sentence[0]\n",
        "only_really = sentence[6:12]\n",
        "print(only_really)\n",
        "first_letters = sentence[0:7]\n",
        "print(first_letters)\n",
        "\n",
        "\n"
      ],
      "metadata": {
        "colab": {
          "base_uri": "https://localhost:8080/"
        },
        "id": "cBu21N7Ek8gB",
        "outputId": "af1086e6-1ee0-499d-e4bf-288884964b21"
      },
      "execution_count": null,
      "outputs": [
        {
          "output_type": "stream",
          "name": "stdout",
          "text": [
            "really\n",
            "I'm a r\n"
          ]
        }
      ]
    },
    {
      "cell_type": "code",
      "source": [
        "word = \"Hello\"\n",
        "word[1:2]\n",
        "word[0:3]\n",
        "word[:]\n",
        "word[3:6]\n",
        "word[2:-2]\n",
        "word[2:-2]\n"
      ],
      "metadata": {
        "colab": {
          "base_uri": "https://localhost:8080/",
          "height": 35
        },
        "id": "zk4Y2VovncGk",
        "outputId": "2468340f-450e-478a-915d-251a027de5eb"
      },
      "execution_count": null,
      "outputs": [
        {
          "output_type": "execute_result",
          "data": {
            "text/plain": [
              "'l'"
            ],
            "application/vnd.google.colaboratory.intrinsic+json": {
              "type": "string"
            }
          },
          "metadata": {},
          "execution_count": 23
        }
      ]
    },
    {
      "cell_type": "code",
      "source": [
        "# creating some lists\n",
        "fruits = ['apple','banana','orange']\n",
        "stuff = [12, 'asdf', 123.013, [1,2,3]]\n",
        "len(fruits)\n",
        "len(stuff)\n",
        "fruits[:2]\n",
        "fruits[1:3]\n",
        "stuff[1:4]\n",
        "\n",
        "first_names = [\"Andrew\", \"Sandra\", \"Nathan\"]\n",
        "print(first_names)\n",
        "first_names[0:3]\n",
        "len(first_names)\n",
        "first_2_names = first_names[0:2]\n",
        "print(first_2_names)\n",
        "\n"
      ],
      "metadata": {
        "colab": {
          "base_uri": "https://localhost:8080/"
        },
        "id": "Ruc7FT8SrJr_",
        "outputId": "805ccc70-0a2e-4204-a020-f7104e972845"
      },
      "execution_count": null,
      "outputs": [
        {
          "output_type": "stream",
          "name": "stdout",
          "text": [
            "['Andrew', 'Sandra', 'Nathan']\n",
            "['Andrew', 'Sandra']\n"
          ]
        }
      ]
    },
    {
      "cell_type": "code",
      "source": [
        "# creating some lists\n",
        "fruits = ['apple','banana','orange']\n",
        "stuff = [12, 'asdf', 123.013, [1,2,3]]\n",
        "\n",
        "fruits.append(\"mango\")\n",
        "print(fruits)\n",
        "fruits.remove(\"apple\")\n",
        "print(fruits)"
      ],
      "metadata": {
        "colab": {
          "base_uri": "https://localhost:8080/"
        },
        "id": "YQknUSNyuv_s",
        "outputId": "df3bc476-907d-4d1b-d3ad-628197edb6a2"
      },
      "execution_count": null,
      "outputs": [
        {
          "output_type": "stream",
          "name": "stdout",
          "text": [
            "['apple', 'banana', 'orange', 'mango']\n",
            "['banana', 'orange', 'mango']\n"
          ]
        }
      ]
    },
    {
      "cell_type": "code",
      "source": [
        "dog = {\"name\" : \"Bingo\"} \n",
        "# asign age = 8 to the dictionary of dog\n",
        "dog['age'] = 8\n",
        "print(dog)\n",
        "dog[\"colour\"] = \"black\"\n",
        "print(dog)\n",
        "dog[\"name\"]\n",
        "dog[\"colour\"]\n",
        "dog[\"age\"]\n",
        "\n",
        "list(dog.keys())\n",
        "list(dog.values())\n",
        "list(dog.items())"
      ],
      "metadata": {
        "colab": {
          "base_uri": "https://localhost:8080/"
        },
        "id": "9tR3AKM4xO96",
        "outputId": "7abadbb2-a83d-4fcc-f4ae-e3ccfeb7f4f4"
      },
      "execution_count": null,
      "outputs": [
        {
          "output_type": "stream",
          "name": "stdout",
          "text": [
            "{'name': 'Bingo', 'age': 8}\n",
            "{'name': 'Bingo', 'age': 8, 'colour': 'black'}\n"
          ]
        },
        {
          "output_type": "execute_result",
          "data": {
            "text/plain": [
              "[('name', 'Bingo'), ('age', 8), ('colour', 'black')]"
            ]
          },
          "metadata": {},
          "execution_count": 53
        }
      ]
    },
    {
      "cell_type": "code",
      "source": [
        "person = {\"first_name\" : \"Andrew\", \"last_name\": \"Ochagla\"}\n",
        "list(person.items())\n",
        "person[\"job\"] = \"programmer\"\n",
        "print(person)\n",
        "person[\"first_name\"]\n",
        "person[\"job\"]\n",
        "\n",
        "list(person.keys())\n",
        "list(person.values())\n",
        "list(person.items())\n"
      ],
      "metadata": {
        "colab": {
          "base_uri": "https://localhost:8080/"
        },
        "id": "csHrFVMb1H5k",
        "outputId": "80a75a91-1d8a-4dcf-d3d4-04ef0eaaf9c1"
      },
      "execution_count": null,
      "outputs": [
        {
          "output_type": "stream",
          "name": "stdout",
          "text": [
            "{'first_name': 'Andrew', 'last_name': 'Ochagla', 'job': 'programmer'}\n"
          ]
        },
        {
          "output_type": "execute_result",
          "data": {
            "text/plain": [
              "[('first_name', 'Andrew'), ('last_name', 'Ochagla'), ('job', 'programmer')]"
            ]
          },
          "metadata": {},
          "execution_count": 69
        }
      ]
    },
    {
      "cell_type": "code",
      "source": [
        "Val_1 = True\n",
        "Val_2 = not True\n",
        "print(Val_2)\n",
        "\n",
        "boolean_val = False\n",
        "opp_boolean_val = not False\n",
        "print(opp_boolean_val)"
      ],
      "metadata": {
        "colab": {
          "base_uri": "https://localhost:8080/"
        },
        "id": "0rWBwZQe6ljL",
        "outputId": "d70bf1a3-ecf5-4570-cbf5-8ed2902c228b"
      },
      "execution_count": null,
      "outputs": [
        {
          "output_type": "stream",
          "name": "stdout",
          "text": [
            "False\n",
            "True\n"
          ]
        }
      ]
    },
    {
      "cell_type": "code",
      "source": [
        "a = 1>2\n",
        "print(a)\n",
        "1==1\n",
        "print(1)\n",
        "\n",
        "1 == \"1\"\n",
        "print(1)\n",
        "\n",
        "2 !=\"2\"\n",
        "print(2)\n",
        "\n",
        "2<4\n",
        "\n",
        "2>3\n",
        "1 !=2\n",
        "\n",
        "0 != False"
      ],
      "metadata": {
        "colab": {
          "base_uri": "https://localhost:8080/"
        },
        "id": "iEliYFOLJmtD",
        "outputId": "6c8b6039-891e-40f5-b5a5-21d221054583"
      },
      "execution_count": null,
      "outputs": [
        {
          "output_type": "stream",
          "name": "stdout",
          "text": [
            "False\n",
            "1\n",
            "1\n",
            "2\n"
          ]
        },
        {
          "output_type": "execute_result",
          "data": {
            "text/plain": [
              "False"
            ]
          },
          "metadata": {},
          "execution_count": 105
        }
      ]
    },
    {
      "cell_type": "code",
      "source": [
        "ESO = ['mango','orange','grape','lime']\n",
        "if (len(ESO)) == 4:\n",
        "  print('true')\n",
        "else:\n",
        "  print('false')"
      ],
      "metadata": {
        "colab": {
          "base_uri": "https://localhost:8080/"
        },
        "id": "mHOPaZCmTRWX",
        "outputId": "4e31b457-bb3f-4015-cb80-8b191a5aafef"
      },
      "execution_count": null,
      "outputs": [
        {
          "output_type": "stream",
          "name": "stdout",
          "text": [
            "true\n"
          ]
        }
      ]
    },
    {
      "cell_type": "code",
      "source": [
        "word = \"Hello!\"\n",
        "word[0]\n",
        "word[0:4]\n",
        "word[0:-5]\n",
        "word[2:]"
      ],
      "metadata": {
        "colab": {
          "base_uri": "https://localhost:8080/",
          "height": 35
        },
        "id": "uyYR4Qw4XKAd",
        "outputId": "b2835bcc-9d19-4f9a-ba5d-cb9a6ff5a976"
      },
      "execution_count": null,
      "outputs": [
        {
          "output_type": "execute_result",
          "data": {
            "text/plain": [
              "'llo!'"
            ],
            "application/vnd.google.colaboratory.intrinsic+json": {
              "type": "string"
            }
          },
          "metadata": {},
          "execution_count": 135
        }
      ]
    },
    {
      "cell_type": "code",
      "source": [
        "ESO = ['mango','orange','grape','lime']\n",
        "ESO[0:3]\n",
        "len(ESO)\n",
        "\n",
        "if len(ESO) == 4:\n",
        "  print(\"that is true\")\n",
        "else:\n",
        "  print(\"that is false\")\n",
        "\n",
        "if ESO[0] == \"mango\":\n",
        "  print('excellent!')\n",
        "else:\n",
        "  print('try again!')\n",
        "\n",
        "if ESO[0:3] == ['mango','orange','grape']:\n",
        "  print('great job!')\n",
        "else:\n",
        "  print('you can do better!')"
      ],
      "metadata": {
        "colab": {
          "base_uri": "https://localhost:8080/"
        },
        "id": "vqXCsx9gYOj7",
        "outputId": "9cde31ac-ae16-4b98-dd9a-fd8b14424453"
      },
      "execution_count": null,
      "outputs": [
        {
          "output_type": "stream",
          "name": "stdout",
          "text": [
            "that is true\n",
            "excellent!\n",
            "great job!\n"
          ]
        }
      ]
    },
    {
      "cell_type": "code",
      "source": [
        "my_list = [1,2,3]\n",
        "if my_list[-1] == 3:\n",
        "  print(\"great job Andrew!\")\n",
        "else:\n",
        "  print(\"work harder Andy!\")\n",
        "\n",
        "if my_list[2] == 3:\n",
        "  print('that is correct!')\n",
        "else:\n",
        "  print('das ist nicht richtig!')\n",
        "\n",
        "if len(my_list) == 3:\n",
        "  print('true')\n",
        "elif len(my_list) < 4:\n",
        "    print('false')\n",
        "else:\n",
        "  print(\"wrong approach!\")"
      ],
      "metadata": {
        "colab": {
          "base_uri": "https://localhost:8080/"
        },
        "id": "Ka8o9FP2ajYC",
        "outputId": "a25c9afc-359e-4590-c66c-f45efc915460"
      },
      "execution_count": null,
      "outputs": [
        {
          "output_type": "stream",
          "name": "stdout",
          "text": [
            "great job Andrew!\n",
            "that is correct!\n",
            "true\n"
          ]
        }
      ]
    },
    {
      "cell_type": "code",
      "source": [
        "def was_it_sunny(it_was):\n",
        "  if it_was == True:\n",
        "    print(\"Yes!\")\n",
        "  else:\n",
        "    print(\"No!\")\n",
        "\n",
        "was_it_sunny(True)\n",
        "was_it_sunny(False)"
      ],
      "metadata": {
        "id": "gxEvRXHUl2yn",
        "colab": {
          "base_uri": "https://localhost:8080/"
        },
        "outputId": "e46163f3-dc16-49be-8db8-1354c6343d8e"
      },
      "execution_count": 1,
      "outputs": [
        {
          "output_type": "stream",
          "name": "stdout",
          "text": [
            "Yes!\n",
            "No!\n"
          ]
        }
      ]
    },
    {
      "cell_type": "code",
      "source": [
        "def greet(name):\n",
        "    print('Hello,', name)\n",
        "\n",
        "greet('Andrew')\n",
        "\n"
      ],
      "metadata": {
        "colab": {
          "base_uri": "https://localhost:8080/"
        },
        "id": "0nK18bvQybKZ",
        "outputId": "54685064-4800-43fb-fc2d-b94c9fdc0761"
      },
      "execution_count": null,
      "outputs": [
        {
          "output_type": "stream",
          "name": "stdout",
          "text": [
            "Hello, Andrew\n"
          ]
        }
      ]
    },
    {
      "cell_type": "code",
      "source": [
        "def list_of_3_values():\n",
        "  x = input('enter 1st parameter: ')\n",
        "  y = input('enter 2nd parameter: ')\n",
        "  z = input('enter 3rd parameter: ')\n",
        "  list_of_3_values = [x,y,z]\n",
        "\n",
        "  print(list_of_3_values)\n",
        "\n",
        "list_of_3_values()\n",
        "\n",
        " \n",
        "\n"
      ],
      "metadata": {
        "colab": {
          "base_uri": "https://localhost:8080/"
        },
        "id": "v-2arP1FzgFB",
        "outputId": "449bfcb6-e537-4e35-e203-d4e38c95f3ef"
      },
      "execution_count": 15,
      "outputs": [
        {
          "output_type": "stream",
          "name": "stdout",
          "text": [
            "enter 1st parameter: Andrew\n",
            "enter 2nd parameter: Sandra\n",
            "enter 3rd parameter: Nathan\n",
            "['Andrew', 'Sandra', 'Nathan']\n"
          ]
        }
      ]
    },
    {
      "cell_type": "code",
      "source": [
        "def function_1():\n",
        "  print(\"Andrew\")\n",
        "  print(\"Sandra\")\n",
        "  print(\"Nathan\")\n",
        "\n",
        "print(\"This is outside the function\")"
      ],
      "metadata": {
        "colab": {
          "base_uri": "https://localhost:8080/"
        },
        "id": "VAXIJ5W69Qk0",
        "outputId": "4f3b7a55-7a79-4d99-9c53-8ed420098968"
      },
      "execution_count": 17,
      "outputs": [
        {
          "output_type": "stream",
          "name": "stdout",
          "text": [
            "This is outside the function\n"
          ]
        }
      ]
    }
  ]
}