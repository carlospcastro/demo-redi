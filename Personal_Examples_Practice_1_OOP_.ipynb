{
  "nbformat": 4,
  "nbformat_minor": 0,
  "metadata": {
    "colab": {
      "name": "Personal Examples Practice 1 OOP .ipynb",
      "provenance": [],
      "collapsed_sections": [],
      "authorship_tag": "ABX9TyNF9b1iaxDYfqnKML/UHxO0",
      "include_colab_link": true
    },
    "kernelspec": {
      "name": "python3",
      "display_name": "Python 3"
    },
    "language_info": {
      "name": "python"
    }
  },
  "cells": [
    {
      "cell_type": "markdown",
      "metadata": {
        "id": "view-in-github",
        "colab_type": "text"
      },
      "source": [
        "<a href=\"https://colab.research.google.com/github/carlospcastro/demo-redi/blob/Andrew%C2%B4s-branch/Personal_Examples_Practice_1_OOP_.ipynb\" target=\"_parent\"><img src=\"https://colab.research.google.com/assets/colab-badge.svg\" alt=\"Open In Colab\"/></a>"
      ]
    },
    {
      "cell_type": "code",
      "execution_count": null,
      "metadata": {
        "colab": {
          "base_uri": "https://localhost:8080/"
        },
        "id": "0qtx-9Rs622_",
        "outputId": "01db69ac-b9e8-450a-a907-4022303bb0aa"
      },
      "outputs": [
        {
          "output_type": "stream",
          "name": "stdout",
          "text": [
            "True\n",
            "The student named Harry has a mark of 85 therefore passed the exam\n",
            "True\n",
            "The student named Ben has a mark of 50 therefore passed the exam\n",
            "False\n",
            "The student named Fahad has a mark of 30 therefore failed the exam\n"
          ]
        }
      ],
      "source": [
        "\"\"\"Question 1:\n",
        "Create a class with 3 objects to determine if the students passed an exam or not.\n",
        "The pass mark for the exam is 50. \"\"\"\n",
        "\n",
        "class student:\n",
        "  def passed_or_failed(self):\n",
        "    if self.mark >= 50:\n",
        "      return True\n",
        "    else:\n",
        "      return False\n",
        "\n",
        "# ceating the objects in the class\n",
        "stud1 = student()\n",
        "# adding attributes to the object manually. In this case, \"name and mark\".\n",
        "stud1.name = \"Harry\"\n",
        "stud1.mark = 85\n",
        "\n",
        "stud2 = student()\n",
        "stud2.name = \"Ben\"\n",
        "stud2.mark = 50\n",
        "\n",
        "stud3 = student()\n",
        "stud3.name = \"Fahad\"\n",
        "stud3.mark = 30\n",
        "\n",
        "# calling the stud1 object from the class\n",
        "result1 = stud1.passed_or_failed()\n",
        "print(result1)\n",
        "print(\"The student named\", stud1.name, \"has a mark of\", stud1.mark, \"therefore passed the exam\")\n",
        "\n",
        "result2 = stud2.passed_or_failed()\n",
        "print(result2)\n",
        "print(\"The student named\", stud2.name, \"has a mark of\", stud2.mark, \"therefore passed the exam\")\n",
        "\n",
        "result3 = stud3.passed_or_failed()\n",
        "print(result3)\n",
        "print(\"The student named\", stud3.name, \"has a mark of\", stud3.mark, \"therefore failed the exam\")\n",
        "\n"
      ]
    },
    {
      "cell_type": "code",
      "source": [
        "\"\"\" since the attributes, \"name and mark\" is common to the objects, \n",
        "let us find a way to make them share from this attributes using a function, so that we don't have to repaet that step when creating the objects.\n",
        "We can do this using the special function known as the \"__init__\" function \"\"\"\n",
        "\n",
        "# Solution:\n",
        "\n",
        "class student:\n",
        "  def passed_or_failed(self):\n",
        "    if self.mark >= 50:\n",
        "      return True\n",
        "    else:\n",
        "      return False\n",
        "\n",
        "  def __init__(self, name, mark):\n",
        "    self.name = name\n",
        "    self.mark = mark\n",
        "\n",
        "\n",
        "# creating the object \"stud1\" having the attributes of name and mark\n",
        "stud1 = student(\"Harry\",85) \n",
        "\n",
        "# calling the stud1 object from te class\n",
        "result1 = stud1.passed_or_failed()\n",
        "\n",
        "# printing the output from the main function(method) of the class\n",
        "print(result1)\n",
        "print(\"The student by the name\",stud1.name, \"since having a mark of\", stud1.mark, \"therefore passed the exam\")\n",
        "\n",
        "\n",
        "# creating the object \"stud2\" having the attributes of name and mark\n",
        "stud2 = student(\"Ben\",50) \n",
        "\n",
        "# calling the stud2 object from te class\n",
        "result2 = stud2.passed_or_failed()\n",
        "\n",
        "# printing the output from the main function(method) of the class\n",
        "print(result2)\n",
        "print(\"The student by the name\",stud2.name, \"since having a mark of\", stud2.mark, \"therefore passed the exam\")\n",
        "\n",
        "\n",
        "# creating the object \"stud3\" having the attributes of name and mark\n",
        "stud3 = student(\"Fahad\",30) \n",
        "\n",
        "# calling the stud3 object from te class\n",
        "result3 = stud3.passed_or_failed()\n",
        "\n",
        "# printing the output from the main function(method) of the class\n",
        "print(result3)\n",
        "print(\"The student by the name\",stud3.name, \"since having a mark of\", stud3.mark, \"therefore failed the exam\")\n",
        "\n",
        "\n",
        "\n"
      ],
      "metadata": {
        "colab": {
          "base_uri": "https://localhost:8080/"
        },
        "id": "OpE2tiGyFOuX",
        "outputId": "8291f73a-d701-419c-fb6e-4e85c0284419"
      },
      "execution_count": null,
      "outputs": [
        {
          "output_type": "stream",
          "name": "stdout",
          "text": [
            "True\n",
            "The student by the name Harry since having a mark of 85 therefore passed the exam\n",
            "True\n",
            "The student by the name Ben since having a mark of 50 therefore passed the exam\n",
            "False\n",
            "The student by the name Fahad since having a mark of 30 therefore failed the exam\n"
          ]
        }
      ]
    },
    {
      "cell_type": "code",
      "source": [
        "# Examples from ReDI Schoool class website for 12th April 2022 \n",
        "\n",
        "# contructor functions\n",
        "# The special function called the \"__init()\" function\n",
        "\n",
        "\n",
        "class pets:\n",
        "  def __init__(self, name):\n",
        "    self.name = name\n",
        "\n",
        "  def greet(self):\n",
        "    print(\"Hello, my name is \", self.name, \"and I am a nice Dog\")\n",
        "\n",
        "pet1 = pets(\"spakie\")\n",
        "pet1.greet()\n",
        "\n",
        "pet2 = pets(\"Roonie\")\n",
        "pet2.greet()\n",
        "\n",
        "\n",
        "    "
      ],
      "metadata": {
        "colab": {
          "base_uri": "https://localhost:8080/"
        },
        "id": "ZmPjg8HDVQeL",
        "outputId": "719a99e6-6c30-4c6e-85b7-614f3257e783"
      },
      "execution_count": 65,
      "outputs": [
        {
          "output_type": "stream",
          "name": "stdout",
          "text": [
            "Hello, my name is  spakie and I am a nice Dog\n",
            "Hello, my name is  Roonie and I am a nice Dog\n"
          ]
        }
      ]
    },
    {
      "cell_type": "code",
      "source": [
        "# Class inheritance\n",
        "\n",
        "\"\"\"Inheritance allows us to define a class that is a sub-category of another class. \n",
        "For example at the pet clinic, we have a Pet class. But using the Pet class, we cannot differentiate between cats, dogs, turtles or birds.\n",
        "We can create new classes for the different kinds of animals at the pet clinic and have all of them inherit from the Pet class.\n",
        "\n",
        "The Pet class is known as the parent class.\n",
        "The Cat, Dog, Turtle and Bird classes are known as child class.\n",
        "Now we can create more pet objects using their specific classes and they will all be able to say hello \n",
        "because they've inherited the greet method from the Pet class\"\"\"\n",
        "\n",
        "class pets:\n",
        "  def __init__(self, name):\n",
        "    self.name = name\n",
        "\n",
        "  def greet(self):\n",
        "    print(\"Hello, my name is \", self.name,)\n",
        "\n",
        "pet1 = pets(\"Bingo\")\n",
        "pet1.greet()\n",
        "\n",
        "\n",
        "\n",
        "class cat(pets):\n",
        "  pet2 = pets(\"Miamia\")\n",
        "  pet2.greet()\n",
        "\n",
        "   \n",
        "class dog(pets):\n",
        "  pet3 = pets(\"Sparkie\")\n",
        "  pet3.greet()\n",
        "\n",
        "\n",
        "class turtle(pets):\n",
        "  pet4 = pets(\"shelly\")\n",
        "  pet4.greet()\n",
        "\n",
        "\n",
        "class birds(pets):\n",
        "  pet5 = pets(\"sparrow\")\n",
        "  pet5.greet()\n"
      ],
      "metadata": {
        "id": "NyV9BqD0fNTC",
        "colab": {
          "base_uri": "https://localhost:8080/"
        },
        "outputId": "55e54526-1284-43a6-b55f-66535ca30807"
      },
      "execution_count": 82,
      "outputs": [
        {
          "output_type": "stream",
          "name": "stdout",
          "text": [
            "Hello, my name is  Bingo\n",
            "Hello, my name is  Miamia\n",
            "Hello, my name is  Sparkie\n",
            "Hello, my name is  shelly\n",
            "Hello, my name is  sparrow\n"
          ]
        }
      ]
    },
    {
      "cell_type": "code",
      "source": [
        "\"\"\" Even though we now have various child classes of the parent class Pet, each of those child classes have characteristics that apply to only them. For example cats can meow, dogs can bark, birds can fly and turtles can hide in their shell.\n",
        "We can add more specific class methods into the various child classes to provide more specific behaviors.\n",
        "\n",
        "Lets add:\n",
        "\n",
        "A meow method to the Cat class which causes the cat to make the meow sound\n",
        "A bark method to the Dog class which causes the cat to bark\n",
        "A fly method to the Bird class which causes the bird to fly\n",
        "A hide method to the Turtle class which causes the turtle to go into its shell.\"\"\"\n",
        "\n",
        "# solution\n",
        "\n",
        "class pets:\n",
        "  def __init__(self, name):\n",
        "    self.name = name\n",
        "\n",
        "  def greet(self):\n",
        "    print(\"Hello, my name is \", self.name,)\n",
        "    \n",
        "\n",
        "\n",
        "class cat(pets):\n",
        "  pet2 = pets(\"Miamia\")\n",
        "  pet2.greet()\n",
        "\n",
        "  def meow(self):\n",
        "    print(\"Meeeeeooooww! I am a cat!\")\n",
        "    print(\" \")\n",
        "  meow(pet2)\n",
        "   \n",
        "    \n",
        " \n",
        "class dog(pets):\n",
        "  pet3 = pets(\"Sparkie\")\n",
        "  pet3.greet()\n",
        "\n",
        "  def bark(self):\n",
        "    print(\"Wooof! Woof! I am a dog!\")\n",
        "    print(\" \")\n",
        "  bark(pet3)\n",
        "\n",
        "\n",
        "class turtle(pets):\n",
        "  pet4 = pets(\"shelly\")\n",
        "  pet4.greet()\n",
        "\n",
        "  def hide(self):\n",
        "    print(\"Hide! I'm shy! I am a turtle!\")\n",
        "    print(\" \")\n",
        "  hide(pet4)\n",
        "\n",
        "\n",
        "class birds(pets):\n",
        "  pet5 = pets(\"sparrow\")\n",
        "  pet5.greet()\n",
        "\n",
        "  def fly(self):\n",
        "    print(\"Swoooosh! I'm flying away! I am a bird!\")\n",
        "    print(\" \")\n",
        "  fly(pet5)\n",
        "  "
      ],
      "metadata": {
        "colab": {
          "base_uri": "https://localhost:8080/"
        },
        "id": "EaoJCHb9-1gP",
        "outputId": "3b0524d4-7bc0-4b41-c5b8-279a24589097"
      },
      "execution_count": 89,
      "outputs": [
        {
          "output_type": "stream",
          "name": "stdout",
          "text": [
            "Hello, my name is  Miamia\n",
            "Meeeeeooooww! I am a cat!\n",
            " \n",
            "Hello, my name is  Sparkie\n",
            "Wooof! Woof! I am a dog!\n",
            " \n",
            "Hello, my name is  shelly\n",
            "Hide! I'm shy! I am a turtle!\n",
            " \n",
            "Hello, my name is  sparrow\n",
            "Swoooosh! I'm flying away! I am a bird!\n",
            " \n"
          ]
        }
      ]
    },
    {
      "cell_type": "code",
      "source": [
        "\"\"\"\n",
        "Small challenge : \"It's almost Easter...\"\n",
        "In this exercise, we will try to create a small game using Object Oriented Programming. \n",
        "It is still possible not to use classes, but you will see that it complicates the code considerably... \n",
        "The ultimate goal of this challenge is to show you the power of classes !\n",
        "\n",
        "The game : context & rules\n",
        "Every year, in a small rural village, the municipality organizes a treasure hunt. \n",
        "Many sweets are hidden in the town and the participants have to find them within a given time. \n",
        "The one who finds the most sweets wins the game. Let's code this.\n",
        "\"\"\"\n",
        "\n",
        "# To be attended to later\n",
        "\n"
      ],
      "metadata": {
        "id": "QFWCMapFFlux"
      },
      "execution_count": null,
      "outputs": []
    },
    {
      "cell_type": "code",
      "source": [
        "\"\"\"\n",
        "5.Bonus Task: Extend the pet Clinic Example\n",
        "Write out all the code in the examples above in your preferred python environment and verify that they work for you\n",
        "Add the ability to specify an age of the pet to the Pet class\n",
        "Create a list of 20 pets:\n",
        "5 cats with different names and ages\n",
        "5 dogs with different names and ages\n",
        "5 turtles with different names and ages\n",
        "5 birds with different names and ages\n",
        "Update the hello method in the Pet class to also print the age of the pet\n",
        "Using a for-loop, go through the list of 20 pets and for each pet with an even-numbered age, make the pet say hello!\n",
        "\"\"\"\n",
        "\n",
        "# Solution"
      ],
      "metadata": {
        "id": "fODKxVEEF5OJ"
      },
      "execution_count": null,
      "outputs": []
    },
    {
      "cell_type": "code",
      "source": [
        "\"\"\"\n",
        "6. Bonus Task: Implement a REDI School Management System\n",
        "Create a School class which represents all the different REDI school locations\n",
        "Each school location will be an object of the School class\n",
        "Create a Course class which represents all the different courses offered at REDI School\n",
        "Each actual course will be an object of the Course class\n",
        "Create a Student class which represents all the different students in a REDI School course\n",
        "Each actual student will be an object of the Student class\n",
        "Each student object must have a name\n",
        "Each course object must have a course name and a list of students\n",
        "Each school object must have a location name and a list of courses\n",
        "Test your system by:\n",
        "Creating 3 REDI School objects representing the locatios in Germany\n",
        "Creating 1 course object representing a course offered at one of the schools (3 course objects in total)\n",
        "Creating students objects representing each of the students of the Intro To CS course\n",
        "\n",
        "\"\"\"\n",
        "\n",
        "# Sulution:\n",
        "\n"
      ],
      "metadata": {
        "id": "AaHbjcoiGKJh"
      },
      "execution_count": null,
      "outputs": []
    },
    {
      "cell_type": "code",
      "source": [
        "\"\"\" Task: \n",
        "Create a class named Person, with firstname and lastname properties, and a printname method:\"\"\"\n",
        "\n",
        "class person:\n",
        "  def __init__(self, firstname, lastname):\n",
        "    self.firstname = firstname\n",
        "    self.lastname = lastname\n",
        "\n",
        "  def printname(self):\n",
        "    print(\"My firstname is \", self.firstname,\", and my lastname is \", self.lastname)\n",
        "\n",
        "\n",
        "person1 = person(\"Andrew\", \"Ochagla\")\n",
        "person1.printname()\n",
        "\n"
      ],
      "metadata": {
        "colab": {
          "base_uri": "https://localhost:8080/"
        },
        "id": "aTlIBC24iki7",
        "outputId": "4d25d74b-300d-4255-8758-c9f5fb3094f7"
      },
      "execution_count": 93,
      "outputs": [
        {
          "output_type": "stream",
          "name": "stdout",
          "text": [
            "My firstname is  Andrew , and my lastname is  Ochagla\n"
          ]
        }
      ]
    },
    {
      "cell_type": "code",
      "source": [
        "\"\"\" Create a Child Class\n",
        "To create a class that inherits the functionality from another class, send the parent class as a parameter when creating the child class:\n",
        "\n",
        "Task 2\n",
        "Create a class named Student, which will inherit the properties and methods from the Person class:\"\"\"\n",
        "\n",
        "class person:\n",
        "  def __init__(self, firstname, lastname):\n",
        "    self.firstname = firstname\n",
        "    self.lastname = lastname\n",
        "\n",
        "  def printname(self):\n",
        "    print(\"My firstname is \", self.firstname, \"and my lastname is \", self.lastname)\n",
        "\n",
        "\n",
        "person1 = person(\"Andrew\", \"Ochagla\")\n",
        "person1.printname()\n",
        "\n",
        "class student(person):\n",
        "  student2 = student(\"Sandra\", \"Ochagla\")\n",
        "  student2.printname()\n",
        "\n",
        "\n"
      ],
      "metadata": {
        "colab": {
          "base_uri": "https://localhost:8080/"
        },
        "id": "13fSGql9mCZY",
        "outputId": "6941fadc-222c-438b-fd0d-7f4a512146da"
      },
      "execution_count": null,
      "outputs": [
        {
          "output_type": "stream",
          "name": "stdout",
          "text": [
            "My firstname is  Andrew and my lastname is  Ochagla\n",
            "My firstname is  Sandra and my lastname is  Ochagla\n"
          ]
        }
      ]
    },
    {
      "cell_type": "code",
      "source": [
        ""
      ],
      "metadata": {
        "id": "ilCo0_HRoXDJ"
      },
      "execution_count": null,
      "outputs": []
    }
  ]
}