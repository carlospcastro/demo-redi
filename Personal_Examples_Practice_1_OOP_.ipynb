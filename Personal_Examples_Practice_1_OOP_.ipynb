{
  "nbformat": 4,
  "nbformat_minor": 0,
  "metadata": {
    "colab": {
      "name": "Personal Examples Practice 1 OOP .ipynb",
      "provenance": [],
      "collapsed_sections": [],
      "authorship_tag": "ABX9TyMmgDT36IjrwQuhCc5SCzj6",
      "include_colab_link": true
    },
    "kernelspec": {
      "name": "python3",
      "display_name": "Python 3"
    },
    "language_info": {
      "name": "python"
    }
  },
  "cells": [
    {
      "cell_type": "markdown",
      "metadata": {
        "id": "view-in-github",
        "colab_type": "text"
      },
      "source": [
        "<a href=\"https://colab.research.google.com/github/carlospcastro/demo-redi/blob/Andrew%C2%B4s-branch/Personal_Examples_Practice_1_OOP_.ipynb\" target=\"_parent\"><img src=\"https://colab.research.google.com/assets/colab-badge.svg\" alt=\"Open In Colab\"/></a>"
      ]
    },
    {
      "cell_type": "code",
      "execution_count": null,
      "metadata": {
        "colab": {
          "base_uri": "https://localhost:8080/"
        },
        "id": "0qtx-9Rs622_",
        "outputId": "01db69ac-b9e8-450a-a907-4022303bb0aa"
      },
      "outputs": [
        {
          "output_type": "stream",
          "name": "stdout",
          "text": [
            "True\n",
            "The student named Harry has a mark of 85 therefore passed the exam\n",
            "True\n",
            "The student named Ben has a mark of 50 therefore passed the exam\n",
            "False\n",
            "The student named Fahad has a mark of 30 therefore failed the exam\n"
          ]
        }
      ],
      "source": [
        "\"\"\"Question 1:\n",
        "Create a class with 3 objects to determine if the students passed an exam or not.\n",
        "The pass mark for the exam is 50. \"\"\"\n",
        "\n",
        "class student:\n",
        "  def passed_or_failed(self):\n",
        "    if self.mark >= 50:\n",
        "      return True\n",
        "    else:\n",
        "      return False\n",
        "\n",
        "# ceating the objects in the class\n",
        "stud1 = student()\n",
        "# adding attributes to the object manually. In this case, \"name and mark\".\n",
        "stud1.name = \"Harry\"\n",
        "stud1.mark = 85\n",
        "\n",
        "stud2 = student()\n",
        "stud2.name = \"Ben\"\n",
        "stud2.mark = 50\n",
        "\n",
        "stud3 = student()\n",
        "stud3.name = \"Fahad\"\n",
        "stud3.mark = 30\n",
        "\n",
        "# calling the stud1 object from the class\n",
        "result1 = stud1.passed_or_failed()\n",
        "print(result1)\n",
        "print(\"The student named\", stud1.name, \"has a mark of\", stud1.mark, \"therefore passed the exam\")\n",
        "\n",
        "result2 = stud2.passed_or_failed()\n",
        "print(result2)\n",
        "print(\"The student named\", stud2.name, \"has a mark of\", stud2.mark, \"therefore passed the exam\")\n",
        "\n",
        "result3 = stud3.passed_or_failed()\n",
        "print(result3)\n",
        "print(\"The student named\", stud3.name, \"has a mark of\", stud3.mark, \"therefore failed the exam\")\n",
        "\n"
      ]
    },
    {
      "cell_type": "code",
      "source": [
        "\"\"\" since the attributes, \"name and mark\" is common to the objects, \n",
        "let us find a way to make them share from this attributes using a function, so that we don't have to repaet that step when creating the objects.\n",
        "We can do this using the special function known as the \"__init__\" function \"\"\"\n",
        "\n",
        "# Solution:\n",
        "\n",
        "class student:\n",
        "  def passed_or_failed(self):\n",
        "    if self.mark >= 50:\n",
        "      return True\n",
        "    else:\n",
        "      return False\n",
        "\n",
        "  def __init__(self, name, mark):\n",
        "    self.name = name\n",
        "    self.mark = mark\n",
        "\n",
        "\n",
        "# creating the object \"stud1\" having the attributes of name and mark\n",
        "stud1 = student(\"Harry\",85) \n",
        "\n",
        "# calling the stud1 object from te class\n",
        "result1 = stud1.passed_or_failed()\n",
        "\n",
        "# printing the output from the main function(method) of the class\n",
        "print(result1)\n",
        "print(\"The student by the name\",stud1.name, \"since having a mark of\", stud1.mark, \"therefore passed the exam\")\n",
        "\n",
        "\n",
        "# creating the object \"stud2\" having the attributes of name and mark\n",
        "stud2 = student(\"Ben\",50) \n",
        "\n",
        "# calling the stud2 object from te class\n",
        "result2 = stud2.passed_or_failed()\n",
        "\n",
        "# printing the output from the main function(method) of the class\n",
        "print(result2)\n",
        "print(\"The student by the name\",stud2.name, \"since having a mark of\", stud2.mark, \"therefore passed the exam\")\n",
        "\n",
        "\n",
        "# creating the object \"stud3\" having the attributes of name and mark\n",
        "stud3 = student(\"Fahad\",30) \n",
        "\n",
        "# calling the stud3 object from te class\n",
        "result3 = stud3.passed_or_failed()\n",
        "\n",
        "# printing the output from the main function(method) of the class\n",
        "print(result3)\n",
        "print(\"The student by the name\",stud3.name, \"since having a mark of\", stud3.mark, \"therefore failed the exam\")\n",
        "\n",
        "\n",
        "\n"
      ],
      "metadata": {
        "colab": {
          "base_uri": "https://localhost:8080/"
        },
        "id": "OpE2tiGyFOuX",
        "outputId": "8291f73a-d701-419c-fb6e-4e85c0284419"
      },
      "execution_count": null,
      "outputs": [
        {
          "output_type": "stream",
          "name": "stdout",
          "text": [
            "True\n",
            "The student by the name Harry since having a mark of 85 therefore passed the exam\n",
            "True\n",
            "The student by the name Ben since having a mark of 50 therefore passed the exam\n",
            "False\n",
            "The student by the name Fahad since having a mark of 30 therefore failed the exam\n"
          ]
        }
      ]
    },
    {
      "cell_type": "code",
      "source": [
        "# Examples from ReDI Schoool class website for 12th April 2022 \n",
        "\n",
        "# contructor functions\n",
        "# The special function called the \"__init()\" function\n",
        "\n",
        "\n",
        "class pets:\n",
        "  def __init__(self, name):\n",
        "    self.name = name\n",
        "\n",
        "  def greet(self):\n",
        "    print(\"Hello, my name is \", self.name, \"and I am a nice Dog\")\n",
        "\n",
        "    \n",
        "    \n",
        "\n",
        "\n",
        "pet1 = pets(\"spakie\")\n",
        "pet1.greet()\n",
        "\n",
        "pet2 = pets(\"Roonie\")\n",
        "pet2.greet()\n",
        "\n",
        "\n",
        "    "
      ],
      "metadata": {
        "colab": {
          "base_uri": "https://localhost:8080/"
        },
        "id": "ZmPjg8HDVQeL",
        "outputId": "95ef59b1-2424-487b-8ad3-13c58b3b90f9"
      },
      "execution_count": null,
      "outputs": [
        {
          "output_type": "stream",
          "name": "stdout",
          "text": [
            "Hello, my name is  spakie and I am a nice Dog\n",
            "Hello, my name is  Roonie and I am a nice Dog\n"
          ]
        }
      ]
    },
    {
      "cell_type": "code",
      "source": [
        "# Class inheritance\n",
        "\n",
        "\"\"\"Inheritance allows us to define a class that is a sub-category of another class. \n",
        "For example at the pet clinic, we have a Pet class. But using the Pet class, we cannot differentiate between cats, dogs, turtles or birds.\n",
        "We can create new classes for the different kinds of animals at the pet clinic and have all of them inherit from the Pet class.\n",
        "\n",
        "The Pet class is known as the parent class.\n",
        "The Cat, Dog, Turtle and Bird classes are known as child class.\n",
        "Now we can create more pet objects using their specific classes and they will all be able to say hello \n",
        "because they've inherited the greet method from the Pet class\"\"\"\n",
        "\n",
        "class pets:\n",
        "  def __init__(self, name):\n",
        "    self.name = name\n",
        "\n",
        "  def greet(self):\n",
        "    print(\"Hello, my name is \", self.name,)\n",
        "\n",
        "pet1 = pets(\"Bingo\")\n",
        "pet1.greet()\n",
        "\n",
        "class cat(pets):\n",
        "  pet2 = pets(\"Mia\")\n",
        "  pet2.greet()\n",
        "\n",
        "class dog(pets):\n",
        "  pet3 = pets(\"Sparkie\")\n",
        "  pet3.greet()\n",
        "\n",
        "class turtle(pets):\n",
        "  pet4 = pets(\"shelly\")\n",
        "  pet4.greet()\n",
        "\n",
        "class birds(pets):\n",
        "  pet5 = pets(\"sparrow\")\n",
        "  pet5.greet()\n",
        "\n",
        "\n",
        "\n",
        "\n",
        "\n",
        "\n",
        "  \n",
        "\n",
        "\n",
        "\n"
      ],
      "metadata": {
        "id": "NyV9BqD0fNTC",
        "colab": {
          "base_uri": "https://localhost:8080/"
        },
        "outputId": "44e85b02-030b-44d8-bd2b-63b9f20dfa05"
      },
      "execution_count": 58,
      "outputs": [
        {
          "output_type": "stream",
          "name": "stdout",
          "text": [
            "Hello, my name is  Bingo\n",
            "Hello, my name is  Mia\n",
            "Hello, my name is  Sparkie\n",
            "Hello, my name is  shelly\n",
            "Hello, my name is  sparrow\n"
          ]
        }
      ]
    },
    {
      "cell_type": "code",
      "source": [
        "\"\"\" Task: \n",
        "Create a class named Person, with firstname and lastname properties, and a printname method:\"\"\"\n",
        "\n",
        "class person:\n",
        "  def __init__(self, firstname, lastname):\n",
        "    self.firstname = firstname\n",
        "    self.lastname = lastname\n",
        "\n",
        "  def printname(self):\n",
        "    print(\"My firstname is \", self.firstname, \"and my lastname is \", self.lastname)\n",
        "\n",
        "\n",
        "person1 = person(\"Andrew\", \"Ochagla\")\n",
        "person1.printname()\n",
        "\n"
      ],
      "metadata": {
        "colab": {
          "base_uri": "https://localhost:8080/"
        },
        "id": "aTlIBC24iki7",
        "outputId": "cf8f1ef6-1460-4400-d67b-b95041e202af"
      },
      "execution_count": null,
      "outputs": [
        {
          "output_type": "stream",
          "name": "stdout",
          "text": [
            "My firstname is  Andrew and my lastname is  Ochagla\n"
          ]
        }
      ]
    },
    {
      "cell_type": "code",
      "source": [
        "\"\"\" Create a Child Class\n",
        "To create a class that inherits the functionality from another class, send the parent class as a parameter when creating the child class:\n",
        "\n",
        "Task 2\n",
        "Create a class named Student, which will inherit the properties and methods from the Person class:\"\"\"\n",
        "\n",
        "class person:\n",
        "  def __init__(self, firstname, lastname):\n",
        "    self.firstname = firstname\n",
        "    self.lastname = lastname\n",
        "\n",
        "  def printname(self):\n",
        "    print(\"My firstname is \", self.firstname, \"and my lastname is \", self.lastname)\n",
        "\n",
        "\n",
        "person1 = person(\"Andrew\", \"Ochagla\")\n",
        "person1.printname()\n",
        "\n",
        "class student(person):\n",
        "  student2 = student(\"Sandra\", \"Ochagla\")\n",
        "  student2.printname()\n",
        "\n",
        "\n"
      ],
      "metadata": {
        "colab": {
          "base_uri": "https://localhost:8080/"
        },
        "id": "13fSGql9mCZY",
        "outputId": "6941fadc-222c-438b-fd0d-7f4a512146da"
      },
      "execution_count": null,
      "outputs": [
        {
          "output_type": "stream",
          "name": "stdout",
          "text": [
            "My firstname is  Andrew and my lastname is  Ochagla\n",
            "My firstname is  Sandra and my lastname is  Ochagla\n"
          ]
        }
      ]
    },
    {
      "cell_type": "code",
      "source": [
        ""
      ],
      "metadata": {
        "id": "ilCo0_HRoXDJ"
      },
      "execution_count": null,
      "outputs": []
    }
  ]
}