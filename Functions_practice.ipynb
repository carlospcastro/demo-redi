{
  "nbformat": 4,
  "nbformat_minor": 0,
  "metadata": {
    "colab": {
      "name": "Functions practice.ipynb",
      "provenance": [],
      "collapsed_sections": [],
      "authorship_tag": "ABX9TyPmwPqJHs8v2YF0SSFZBk71",
      "include_colab_link": true
    },
    "kernelspec": {
      "name": "python3",
      "display_name": "Python 3"
    },
    "language_info": {
      "name": "python"
    }
  },
  "cells": [
    {
      "cell_type": "markdown",
      "metadata": {
        "id": "view-in-github",
        "colab_type": "text"
      },
      "source": [
        "<a href=\"https://colab.research.google.com/github/carlospcastro/demo-redi/blob/Andrew%C2%B4s-branch/Functions_practice.ipynb\" target=\"_parent\"><img src=\"https://colab.research.google.com/assets/colab-badge.svg\" alt=\"Open In Colab\"/></a>"
      ]
    },
    {
      "cell_type": "code",
      "execution_count": null,
      "metadata": {
        "colab": {
          "base_uri": "https://localhost:8080/"
        },
        "id": "dP60v8Hz-lTm",
        "outputId": "51a71fcd-6b2f-4dd1-86d5-7e8fc17b0f37"
      },
      "outputs": [
        {
          "output_type": "stream",
          "name": "stdout",
          "text": [
            "Andrew\n",
            "Sandra\n",
            "Nathan\n"
          ]
        }
      ],
      "source": [
        "# functions are a collection of intructions or a collection of codes to be executed by a program\n",
        "# the function below means: a function named \"function_1\" is defined\"\n",
        "# the intructions are to print the names listed if the function is called\n",
        "# \"Calling\" a function means asking the functionto produce the instructions given to it.\n",
        "# to call a function, simply write out the function name without the \"def\", and : and this has to be done under the same line as whre the def is.\n",
        "# if the function is not called, then the program prints out any other intructionwritten ouside the function\n",
        "\n",
        "#example\n",
        "\n",
        "def function_1():\n",
        "  print(\"Andrew\")\n",
        "  print(\"Sandra\")\n",
        "  print(\"Nathan\")\n",
        "\n",
        "function_1()\n",
        "\n"
      ]
    },
    {
      "cell_type": "code",
      "source": [
        "#functions can be re-used within the same code by calling it as many times as you want\n",
        "\n",
        "#example: we call the function twice\n",
        "\n",
        "def function_1():\n",
        "  print(\"Andrew\")\n",
        "  print(\"Sandra\")\n",
        "  print(\"Nathan\")\n",
        "\n",
        "function_1()\n",
        "function_1()\n",
        "\n"
      ],
      "metadata": {
        "colab": {
          "base_uri": "https://localhost:8080/"
        },
        "id": "PH90MluiByCB",
        "outputId": "70e5dca2-3e17-489a-d635-e44494470b9d"
      },
      "execution_count": null,
      "outputs": [
        {
          "output_type": "stream",
          "name": "stdout",
          "text": [
            "Andrew\n",
            "Sandra\n",
            "Nathan\n",
            "Andrew\n",
            "Sandra\n",
            "Nathan\n"
          ]
        }
      ]
    },
    {
      "cell_type": "code",
      "source": [
        "# we can stop the function from running continously by writing a line of code of print that prints a different instruction\n",
        "\n",
        "#example\n",
        "\n",
        "def function_1():\n",
        "  print(\"Andrew\")\n",
        "  print(\"Sandra\")\n",
        "  print(\"Nathan\")\n",
        "\n",
        "function_1()\n",
        "function_1()\n",
        "print(\"this is the end of the name printing\")"
      ],
      "metadata": {
        "colab": {
          "base_uri": "https://localhost:8080/"
        },
        "id": "bQnKSFdrCZE6",
        "outputId": "3af736f3-4323-4c96-a0a1-5c5aed841a36"
      },
      "execution_count": null,
      "outputs": [
        {
          "output_type": "stream",
          "name": "stdout",
          "text": [
            "Andrew\n",
            "Sandra\n",
            "Nathan\n",
            "Andrew\n",
            "Sandra\n",
            "Nathan\n",
            "this is the end of the name printing\n"
          ]
        }
      ]
    },
    {
      "cell_type": "code",
      "source": [
        "# a function can also be a mapping. i.e takes an argument or a value in the ()\n",
        "\n",
        "#example\n",
        "#i.e a function called function_2 that takes an argument x\n",
        "\n",
        "def function_2(x):\n",
        "  return 3*x\n",
        "\n",
        "a = function_2(3)\n",
        "print(a)\n",
        "\n",
        "b = function_2(5)\n",
        "c = function_2(10)\n",
        "\n",
        "print(b)\n",
        "print(c)\n",
        "\n",
        "# note that the values: 9,15 and 30 are know as the return value or output\n",
        "\n",
        "# also note that if you try to call the function without an argument, an error meesage would be returned because you had earlier defined your function above to always take an argument \"x\"\n",
        "\n",
        "#example\n",
        "\n",
        "e = function_2()\n",
        "print(e)\n",
        "\n",
        "    \n"
      ],
      "metadata": {
        "id": "JSwSxCVwEH7w",
        "colab": {
          "base_uri": "https://localhost:8080/",
          "height": 287
        },
        "outputId": "1d6ad050-8e9a-4820-b216-dcdc1d13b714"
      },
      "execution_count": null,
      "outputs": [
        {
          "output_type": "stream",
          "name": "stdout",
          "text": [
            "9\n",
            "15\n",
            "30\n"
          ]
        },
        {
          "output_type": "error",
          "ename": "TypeError",
          "evalue": "ignored",
          "traceback": [
            "\u001b[0;31m---------------------------------------------------------------------------\u001b[0m",
            "\u001b[0;31mTypeError\u001b[0m                                 Traceback (most recent call last)",
            "\u001b[0;32m<ipython-input-14-6c33ca5c6edd>\u001b[0m in \u001b[0;36m<module>\u001b[0;34m()\u001b[0m\n\u001b[1;32m     22\u001b[0m \u001b[0;31m#example\u001b[0m\u001b[0;34m\u001b[0m\u001b[0;34m\u001b[0m\u001b[0;34m\u001b[0m\u001b[0m\n\u001b[1;32m     23\u001b[0m \u001b[0;34m\u001b[0m\u001b[0m\n\u001b[0;32m---> 24\u001b[0;31m \u001b[0me\u001b[0m \u001b[0;34m=\u001b[0m \u001b[0mfunction_2\u001b[0m\u001b[0;34m(\u001b[0m\u001b[0;34m)\u001b[0m\u001b[0;34m\u001b[0m\u001b[0;34m\u001b[0m\u001b[0m\n\u001b[0m\u001b[1;32m     25\u001b[0m \u001b[0mprint\u001b[0m\u001b[0;34m(\u001b[0m\u001b[0me\u001b[0m\u001b[0;34m)\u001b[0m\u001b[0;34m\u001b[0m\u001b[0;34m\u001b[0m\u001b[0m\n\u001b[1;32m     26\u001b[0m \u001b[0;34m\u001b[0m\u001b[0m\n",
            "\u001b[0;31mTypeError\u001b[0m: function_2() missing 1 required positional argument: 'x'"
          ]
        }
      ]
    },
    {
      "cell_type": "code",
      "source": [
        "# is it possible to have multiple arguments in a single function? yes!\n",
        "# example\n",
        "\n",
        "def function_3(x,y):\n",
        "  return x+y\n",
        "\n",
        "f = function_3(2,4)\n",
        "print(f)\n",
        "\n",
        "#example with 4 arguments\n",
        "def function_4(w,x,y,z):\n",
        "  return w**2+x+y+z\n",
        "\n",
        "g = function_4(2,3,4,5)\n",
        "print(g)"
      ],
      "metadata": {
        "colab": {
          "base_uri": "https://localhost:8080/"
        },
        "id": "Fcu5TfNdJSSk",
        "outputId": "5281b4ab-66e1-4c30-d17a-e5a969fec95b"
      },
      "execution_count": null,
      "outputs": [
        {
          "output_type": "stream",
          "name": "stdout",
          "text": [
            "6\n",
            "16\n"
          ]
        }
      ]
    },
    {
      "cell_type": "code",
      "source": [
        "# so far we have seen how to use functions without taking any argument and with taking arguments. Now let's combine both ways in one function.\n",
        "\n",
        "#example\n",
        "\n",
        "def function_5(j):\n",
        "  print(j)\n",
        "  print(\"still in this function\")\n",
        "  return 3*j\n",
        "\n",
        "L = function_5(4)\n",
        "print(L)\n"
      ],
      "metadata": {
        "colab": {
          "base_uri": "https://localhost:8080/"
        },
        "id": "Y2e0ApVVLlKX",
        "outputId": "2d197909-9396-4d6c-d667-4db49b3a2654"
      },
      "execution_count": null,
      "outputs": [
        {
          "output_type": "stream",
          "name": "stdout",
          "text": [
            "4\n",
            "still in this function\n",
            "12\n"
          ]
        }
      ]
    },
    {
      "cell_type": "code",
      "source": [
        "def function_6(some_arguments):\n",
        "  print(\"we\")\n",
        "  print(\"are the best!\")\n",
        "\n",
        "function_6(1)\n",
        "\n",
        "# note! so long as the function is given an argument that is a number (integer), it would print out the statements\n",
        "\n",
        "\n"
      ],
      "metadata": {
        "colab": {
          "base_uri": "https://localhost:8080/"
        },
        "id": "RiZGfEf5NrSj",
        "outputId": "22b2ebbb-4244-4fa3-81fb-8f4dcfad343e"
      },
      "execution_count": 11,
      "outputs": [
        {
          "output_type": "stream",
          "name": "stdout",
          "text": [
            "we\n",
            "are the best!\n"
          ]
        }
      ]
    },
    {
      "cell_type": "code",
      "source": [
        "#another example\n",
        "\n",
        "def function_7(some_arguments):\n",
        "  print(some_arguments)\n",
        "  print(\"are the best!\")\n",
        "\n",
        "function_7(4)"
      ],
      "metadata": {
        "colab": {
          "base_uri": "https://localhost:8080/"
        },
        "id": "ya9o4homzQnN",
        "outputId": "54611eb3-afc1-449b-8a58-a280f79a11e0"
      },
      "execution_count": 6,
      "outputs": [
        {
          "output_type": "stream",
          "name": "stdout",
          "text": [
            "4\n",
            "are the best!\n"
          ]
        }
      ]
    },
    {
      "cell_type": "code",
      "source": [
        "# simple BMI calculator (Body mass index) that shows if a person is overweight or not\n",
        "\n",
        "\n",
        "name1 = \"Andrew\"\n",
        "height_m1 = 1.7\n",
        "weight_kg1 = 65\n",
        "\n",
        "name2 = \"Sandra\"\n",
        "height_m2 = 1.5\n",
        "weight_kg2 = 60\n",
        "\n",
        "name3 = \"Nathan\"\n",
        "height_m3 = 1.0\n",
        "weight_kg3 = 20\n",
        "\n",
        "def bmi_calculator(name, height_m, weight_kg):\n",
        "  bmi = weight_kg/height_m**2\n",
        "  print(\"bmi: \")\n",
        "  print(bmi)\n",
        "  if bmi<25:\n",
        "    return name + \" \"+ \"is not overweight\"\n",
        "  else:\n",
        "    return name + \" \"+ \"is overweight\"\n",
        "\n",
        "result1 = bmi_calculator(name1, height_m1, weight_kg1)\n",
        "result2 = bmi_calculator(name2, height_m2, weight_kg2)\n",
        "result3 = bmi_calculator(name3, height_m3, weight_kg3)\n",
        "\n",
        "print(result1)\n",
        "print(result2)\n",
        "print(result3)\n",
        "\n",
        "\n"
      ],
      "metadata": {
        "colab": {
          "base_uri": "https://localhost:8080/"
        },
        "id": "kyIsfL2_QKkJ",
        "outputId": "bd6c4599-8378-4d04-e0f0-073bf2b106a9"
      },
      "execution_count": null,
      "outputs": [
        {
          "output_type": "stream",
          "name": "stdout",
          "text": [
            "bmi: \n",
            "22.49134948096886\n",
            "bmi: \n",
            "26.666666666666668\n",
            "bmi: \n",
            "20.0\n",
            "Andrew is not overweight\n",
            "Sandra is overweight\n",
            "Nathan is not overweight\n"
          ]
        }
      ]
    },
    {
      "cell_type": "code",
      "source": [
        "# create a function that  converts miles into kilometer and call your function with convert(miles)\n",
        "# note: use km = 1.6 * miles\n",
        "\n",
        "# solution\n",
        "\n",
        "def convert(miles):\n",
        "  km = 1.6*miles\n",
        "  return km\n",
        "\n",
        "\n",
        "my_trip_to_Berlin = 1000 \n",
        "convert(my_trip_to_Berlin)\n",
        "\n",
        "\n",
        "\n",
        "\n",
        "\n",
        "\n"
      ],
      "metadata": {
        "colab": {
          "base_uri": "https://localhost:8080/"
        },
        "id": "DKfua9UgZs9E",
        "outputId": "47c32668-510c-45c7-f5db-ce048dd79576"
      },
      "execution_count": 12,
      "outputs": [
        {
          "output_type": "execute_result",
          "data": {
            "text/plain": [
              "1600.0"
            ]
          },
          "metadata": {},
          "execution_count": 12
        }
      ]
    },
    {
      "cell_type": "code",
      "source": [
        "#Python Functions (The Only Guide You'll Need) #12 by programiz on YouTube\n",
        "\n",
        "\n",
        "#function without argument\n",
        "\n",
        "def greet():\n",
        "  print(\"Hello\")\n",
        "  print(\"how do you do\")\n",
        "\n",
        "greet()\n",
        "\n",
        "\n",
        "\n"
      ],
      "metadata": {
        "colab": {
          "base_uri": "https://localhost:8080/"
        },
        "id": "s3_vSvrGAosv",
        "outputId": "26f2dd54-17f6-4e72-a3e0-03795a4f3460"
      },
      "execution_count": null,
      "outputs": [
        {
          "output_type": "stream",
          "name": "stdout",
          "text": [
            "Hello\n",
            "how do you do\n",
            "Hello Andrew\n",
            "how do you do\n",
            "The result is 16\n",
            "The answer is 3\n",
            "5\n",
            "The sum of marks is 100\n"
          ]
        }
      ]
    },
    {
      "cell_type": "code",
      "source": [
        "# another example to illustrate use of inbuilt functions in python\n",
        "\n",
        "marks = [10, 15, 20, 25, 30]\n",
        "\n",
        "len(marks)\n",
        "sum_marks = sum(marks)\n",
        "\n",
        "print(len(marks))\n",
        "print(\"The sum of marks is\", sum_marks)"
      ],
      "metadata": {
        "colab": {
          "base_uri": "https://localhost:8080/"
        },
        "id": "ksSyrTZd18HO",
        "outputId": "e0974d31-5cfe-426c-9127-ecb18fc1d526"
      },
      "execution_count": 17,
      "outputs": [
        {
          "output_type": "stream",
          "name": "stdout",
          "text": [
            "5\n",
            "The sum of marks is 100\n"
          ]
        }
      ]
    },
    {
      "cell_type": "code",
      "source": [
        "#using the return inbuilt statement\n",
        "\n",
        "def subtract_numbers(x,y):\n",
        "  output = x-y\n",
        "  return output\n",
        " \n",
        "\n",
        "subtract_numbers(8,5)\n",
        "solution = subtract_numbers(8,5)\n",
        "print(\"The answer is\", solution)"
      ],
      "metadata": {
        "colab": {
          "base_uri": "https://localhost:8080/"
        },
        "id": "7gPl3RsE1YWJ",
        "outputId": "d2d89f70-b8c1-4de9-aabb-db192edd832c"
      },
      "execution_count": 16,
      "outputs": [
        {
          "output_type": "stream",
          "name": "stdout",
          "text": [
            "The answer is 3\n"
          ]
        }
      ]
    },
    {
      "cell_type": "code",
      "source": [
        "# functions with multiple arguments\n",
        "\n",
        "def add_numbers(x,y):\n",
        "  result = x+y\n",
        "  print(\"The result is\", result)\n",
        "\n",
        "\n",
        "add_numbers(10,6)"
      ],
      "metadata": {
        "colab": {
          "base_uri": "https://localhost:8080/"
        },
        "id": "KQrbqEgx1Odp",
        "outputId": "0da2caff-4e41-4161-803c-f5295c8732db"
      },
      "execution_count": 14,
      "outputs": [
        {
          "output_type": "stream",
          "name": "stdout",
          "text": [
            "The result is 16\n"
          ]
        }
      ]
    },
    {
      "cell_type": "code",
      "source": [
        "#another eample with arguments\n",
        "\n",
        "def greet2(name):\n",
        "  print(\"Hello\", name)\n",
        "  print(\"how do you do\")\n",
        "\n",
        "greet2(\"Andrew\")"
      ],
      "metadata": {
        "colab": {
          "base_uri": "https://localhost:8080/"
        },
        "id": "Md9pe42W09b-",
        "outputId": "620786ba-104b-4bd4-c70d-380f86fa82b2"
      },
      "execution_count": 13,
      "outputs": [
        {
          "output_type": "stream",
          "name": "stdout",
          "text": [
            "Hello Andrew\n",
            "how do you do\n"
          ]
        }
      ]
    },
    {
      "cell_type": "code",
      "source": [
        "# suppose you just attended a university examination.\n",
        "# The marks you obtained are listed thus: [55,64,75,80,65]\n",
        "# You want to find out the average marks that you obtained in the examination, and based on the marks, you want to find out your grades.\n",
        "\n",
        "# The grading system is as thus:\n",
        "\n",
        "# You will get grade A if the average marks is equal to or greater than 80\n",
        "# You will get grade B if the average marks is equal to or greater than 60 and less than 80\n",
        "# You will get grade C if the average marks is equal to or greater than 50 and less than 60\n",
        "# You will get grade F if the average marks is less than 50\n",
        "\n",
        "# solution\n",
        "\n",
        "\n",
        "def average_marks_and_grades():\n",
        "  marks = [55,64,75,80,65]\n",
        "  average_marks = sum(marks)/5\n",
        "  if average_marks >=80:\n",
        "    print(\"congratulations!, you passed, your score is\", average_marks, \"and your grade is A\")\n",
        "  elif average_marks >=60<80:\n",
        "    print(\"congratulations!, you passed, your score is\", average_marks, \"and your grade is B\")\n",
        "  elif average_marks >=50<60:\n",
        "    print(\"congratulations!, you passed, your score is\", average_marks, \"and your grade is C\")\n",
        "  elif average_marks <50:\n",
        "    print(\"Unfortunately you failed, your score is\", average_marks, \"and your grade is F\")\n",
        "\n",
        "  \n",
        "\n",
        "average_marks_and_grades()\n",
        "\n",
        "\n",
        "\n",
        "  "
      ],
      "metadata": {
        "colab": {
          "base_uri": "https://localhost:8080/"
        },
        "id": "T0pwTqpQLhL5",
        "outputId": "088bee69-465a-44b1-adc4-cdaae6c4fe87"
      },
      "execution_count": null,
      "outputs": [
        {
          "output_type": "stream",
          "name": "stdout",
          "text": [
            "congratulations!, you passed, your score is 67.8 and your grade is B\n"
          ]
        }
      ]
    },
    {
      "cell_type": "code",
      "source": [
        "# another method of solving this, using two functions\n",
        "def performance_in_exam(marks):\n",
        "  marks = [55,64,75,80,65]\n",
        "  sum_of_marks = sum(marks)\n",
        "  total_subjects = len(marks)\n",
        "  average_marks = sum_of_marks/total_subjects\n",
        "  return average_marks\n",
        "\n",
        "average_marks = performance_in_exam(marks)\n",
        "print('your performance in the exam is', average_marks)\n",
        "\n",
        "# calculate the grade and return it\n",
        "\n",
        "def grades_in_exam(average_marks):\n",
        "  if average_marks >=80:\n",
        "    grade = \"A\"\n",
        "  elif average_marks >=60:\n",
        "    grade = \"B\"\n",
        "  elif average_marks >=50:\n",
        "    grade = \"C\"\n",
        "  else:\n",
        "    grade = \"F\"\n",
        "  return grade\n",
        "\n",
        "grade = grades_in_exam(average_marks)\n",
        "print(\"your grade is\", grade)\n",
        "  \n",
        "    \n",
        "  \n",
        "\n",
        "\n",
        "\n"
      ],
      "metadata": {
        "id": "rOSZXemFaEun",
        "colab": {
          "base_uri": "https://localhost:8080/"
        },
        "outputId": "ce70fc4c-0ddc-41b2-c1de-55db7d6b83c5"
      },
      "execution_count": 22,
      "outputs": [
        {
          "output_type": "stream",
          "name": "stdout",
          "text": [
            "your performance in the exam is 67.8\n",
            "your grade is B\n"
          ]
        }
      ]
    },
    {
      "cell_type": "code",
      "source": [
        "# Assignment\n",
        "# create a program to add and multiply two numbers.\n",
        "# For this, create two functions: add_numbers() and multiply_numbers. \n",
        "# These functions should compute the result and compute them to the function call. The results should be printed from outside the function.\n",
        "\n",
        "# Solution\n",
        "\n",
        "def add_numbers(x,y):\n",
        "  return x+y\n",
        "\n",
        "def multiply_numbers(x,y):\n",
        "  return x*y\n",
        "\n",
        "Result1 = add_numbers(5,4)\n",
        "Result2 = multiply_numbers(5,4)\n",
        "\n",
        "print(\"The result of adding the two numbers is\", Result1)\n",
        "print(\"The result of multiplying the two numbers is\", Result2)\n",
        "\n",
        "\n"
      ],
      "metadata": {
        "colab": {
          "base_uri": "https://localhost:8080/"
        },
        "id": "XiZ21WBR9lHz",
        "outputId": "53b4d248-b4fc-42ca-a907-c22d4e328c58"
      },
      "execution_count": 28,
      "outputs": [
        {
          "output_type": "stream",
          "name": "stdout",
          "text": [
            "The result of adding the two numbers is 9\n",
            "The result of multiplying the two numbers is 20\n"
          ]
        }
      ]
    }
  ]
}