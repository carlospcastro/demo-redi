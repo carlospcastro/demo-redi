{
  "nbformat": 4,
  "nbformat_minor": 0,
  "metadata": {
    "colab": {
      "name": "Andrew's personally solved tasks from the class of 05 April.ipynb",
      "provenance": [],
      "collapsed_sections": [],
      "authorship_tag": "ABX9TyP/uMlJ4IZ+eKMpR1EBph0k",
      "include_colab_link": true
    },
    "kernelspec": {
      "name": "python3",
      "display_name": "Python 3"
    },
    "language_info": {
      "name": "python"
    }
  },
  "cells": [
    {
      "cell_type": "markdown",
      "metadata": {
        "id": "view-in-github",
        "colab_type": "text"
      },
      "source": [
        "<a href=\"https://colab.research.google.com/github/carlospcastro/demo-redi/blob/Andrew%C2%B4s-branch/Andrew's_personally_solved_tasks_from_the_class_of_05_April.ipynb\" target=\"_parent\"><img src=\"https://colab.research.google.com/assets/colab-badge.svg\" alt=\"Open In Colab\"/></a>"
      ]
    },
    {
      "cell_type": "code",
      "execution_count": null,
      "metadata": {
        "colab": {
          "base_uri": "https://localhost:8080/"
        },
        "id": "X63yNnhhdv90",
        "outputId": "13ddb658-a5d0-4f45-e8a8-0608894cc559"
      },
      "outputs": [
        {
          "output_type": "stream",
          "name": "stdout",
          "text": [
            "25\n"
          ]
        }
      ],
      "source": [
        "# Hands on Exercises - Solved personally\n",
        "\n",
        "\"\"\"Task 0\n",
        "Write a function called add_10 that takes in an integer, adds 10, and returns this value.\"\"\"\n",
        "\n",
        "# Solution\n",
        "\n",
        "def add_10(n):\n",
        "  addition = 10 + n\n",
        "  return addition\n",
        "\n",
        "L = add_10(15)\n",
        "print(L)"
      ]
    },
    {
      "cell_type": "code",
      "source": [
        "def add_10(n):\n",
        "  addition = n + 10\n",
        "  return addition\n",
        "\n",
        "M = add_10(5)\n",
        "print(M)"
      ],
      "metadata": {
        "colab": {
          "base_uri": "https://localhost:8080/"
        },
        "id": "Ca5oWnz3eQkp",
        "outputId": "43033f11-fd36-454a-e52d-74712205cc22"
      },
      "execution_count": null,
      "outputs": [
        {
          "output_type": "stream",
          "name": "stdout",
          "text": [
            "15\n"
          ]
        }
      ]
    },
    {
      "cell_type": "code",
      "source": [
        "\"\"\"Task 1\n",
        "Write a function called longer_string that takes in two strings and returns the longer of the two. If they are the same length, return the first string.\"\"\"\n",
        "\n",
        "# Solution\n",
        "def longer_string(a,b):\n",
        "  a = \"My name is Andrew, and I am learning python\"\n",
        "  b = \"I love programming\"\n",
        "  if len(a) > len(b):\n",
        "    print(a)\n",
        "  elif len(a) < len(b):\n",
        "    print(b)\n",
        "  else:\n",
        "    return(a)\n",
        "\n",
        "longer_string(1,2)"
      ],
      "metadata": {
        "colab": {
          "base_uri": "https://localhost:8080/"
        },
        "id": "IIrvD4h1eWLq",
        "outputId": "86e60bb7-6342-453c-ddcd-71c5045e4c83"
      },
      "execution_count": null,
      "outputs": [
        {
          "output_type": "stream",
          "name": "stdout",
          "text": [
            "My name is Andrew, and I am learning python\n"
          ]
        }
      ]
    },
    {
      "cell_type": "code",
      "source": [
        "# Testing the function with other parameters, (lenght of b more than a)\n",
        "\n",
        "# Solution\n",
        "def longer_string2(a,b):\n",
        "  a = \"I love good food\"\n",
        "  b = \"Today happens to be a very good day!\"\n",
        "  if len(a) > len(b):\n",
        "    print(a)\n",
        "  elif len(a) < len(b):\n",
        "    print(b)\n",
        "  else:\n",
        "    return(a)\n",
        "\n",
        "longer_string2(1,2)"
      ],
      "metadata": {
        "colab": {
          "base_uri": "https://localhost:8080/"
        },
        "id": "ONAiPucMed9t",
        "outputId": "fc764d67-1681-48ad-dd0f-ef893cd5a7ba"
      },
      "execution_count": null,
      "outputs": [
        {
          "output_type": "stream",
          "name": "stdout",
          "text": [
            "Today happens to be a very good day!\n"
          ]
        }
      ]
    },
    {
      "cell_type": "code",
      "source": [
        "# Testing the function with other parameters, (lenght of a and b equal)\n",
        "\n",
        "# The word \"schooolingg\" was spelt this way to achieve the same lenght of the word \"programming\", (11),to be able to test if the function is working properly\n",
        "\n",
        "# Solution\n",
        "def longer_string3(a,b):\n",
        "  a = \"I love schooolingg \"\n",
        "  b = \"I love programming \"\n",
        "  if len(a) > len(b):\n",
        "    print(a)\n",
        "  elif len(a) < len(b):\n",
        "    print(b)\n",
        "  else:\n",
        "    return(a)\n",
        "\n",
        "longer_string3(1,2)"
      ],
      "metadata": {
        "colab": {
          "base_uri": "https://localhost:8080/",
          "height": 35
        },
        "id": "HIcc9FwCekz-",
        "outputId": "3b0d8153-410c-4469-f6da-204176cccb0e"
      },
      "execution_count": null,
      "outputs": [
        {
          "output_type": "execute_result",
          "data": {
            "text/plain": [
              "'I love schooolingg '"
            ],
            "application/vnd.google.colaboratory.intrinsic+json": {
              "type": "string"
            }
          },
          "metadata": {},
          "execution_count": 5
        }
      ]
    },
    {
      "cell_type": "code",
      "source": [
        "\"\"\"Task 2\n",
        "Write a function called is_odd that takes in an integer and returns True if the number is odd and False otherwise.\"\"\"\n",
        "\n",
        "# solution\n",
        "\n",
        "def is_odd(x):\n",
        "  if x % 2 != 0:\n",
        "    return True\n",
        "  else:\n",
        "    return False\n",
        "\n",
        "is_odd(5)"
      ],
      "metadata": {
        "colab": {
          "base_uri": "https://localhost:8080/"
        },
        "id": "2dtsFnDsfO66",
        "outputId": "e35fca6a-625e-4105-e14e-fd156dcb55c3"
      },
      "execution_count": null,
      "outputs": [
        {
          "output_type": "execute_result",
          "data": {
            "text/plain": [
              "True"
            ]
          },
          "metadata": {},
          "execution_count": 8
        }
      ]
    },
    {
      "cell_type": "code",
      "source": [
        "# Testing the above task with an even number\n",
        "\n",
        "# solution\n",
        "\n",
        "def is_odd2(x):\n",
        "  if x % 2 != 0:\n",
        "    return True\n",
        "  else:\n",
        "    return False\n",
        "\n",
        "is_odd2(4)"
      ],
      "metadata": {
        "colab": {
          "base_uri": "https://localhost:8080/"
        },
        "id": "sfXRcSutfjhk",
        "outputId": "4fa5235b-ead7-4457-fffd-4dd3c3c21893"
      },
      "execution_count": null,
      "outputs": [
        {
          "output_type": "execute_result",
          "data": {
            "text/plain": [
              "False"
            ]
          },
          "metadata": {},
          "execution_count": 10
        }
      ]
    },
    {
      "cell_type": "code",
      "source": [
        "\"\"\"Task 3 (parts 1, 2)\n",
        "Write a function called hello_world_n that takes in an integer n and prints \"Hello, world!\" n times.\n",
        "\n",
        "do this using a for loop\n",
        "do this using a while loop\"\"\"\n",
        "\n",
        "# Solution\n",
        "# Using the \"for\" loop\n",
        "\n",
        "def hello_world_n(n):\n",
        "  for letter in \"Hello, world!\":\n",
        "    new_word = \"Hello, world! \"\n",
        "    return new_word\n",
        "\n",
        "A = hello_world_n(2)\n",
        "print(A * 5)\n"
      ],
      "metadata": {
        "colab": {
          "base_uri": "https://localhost:8080/"
        },
        "id": "AsC6IkmqhMA8",
        "outputId": "49b41f67-27b4-4e9a-c525-364a43cb9a87"
      },
      "execution_count": null,
      "outputs": [
        {
          "output_type": "stream",
          "name": "stdout",
          "text": [
            "Hello, world! Hello, world! Hello, world! Hello, world! Hello, world! \n"
          ]
        }
      ]
    },
    {
      "cell_type": "code",
      "source": [
        "# Solution\n",
        "# Using the \"while\" loop\n",
        "\n",
        "def hello_world_n(n):\n",
        "  count = 0\n",
        "  while count < 5:\n",
        "    print(\"Hello, world!\")\n",
        "    count = count + 1\n",
        "    \n",
        "B = hello_world_n(3)\n",
        "print(B)"
      ],
      "metadata": {
        "colab": {
          "base_uri": "https://localhost:8080/"
        },
        "id": "sLrbc_xdr3Ea",
        "outputId": "21800e13-cdaf-499b-c685-cee2cdf5e6e9"
      },
      "execution_count": null,
      "outputs": [
        {
          "output_type": "stream",
          "name": "stdout",
          "text": [
            "Hello, world!\n",
            "Hello, world!\n",
            "Hello, world!\n",
            "Hello, world!\n",
            "Hello, world!\n",
            "None\n"
          ]
        }
      ]
    },
    {
      "cell_type": "code",
      "source": [
        "\"\"\"Task 4\n",
        "Write a function called sum_list that takes in a list of integers (i.e. [3, 0, 10, 4, 5, 3]) \n",
        "and returns the sum of them. Do not use the sum function in your logic, \n",
        "but you can use this to test your logic! (Hint: assert sum(lst) == ...)\"\"\"\n",
        "\n",
        "def sum_list():\n",
        "  Q = [3, 0, 10, 4, 5, 3]\n",
        "  addition = 3 + 0 + 10 + 4 + 5 + 3\n",
        "  return addition\n",
        "\n",
        "Y = sum_list()\n",
        "print(Y)\n",
        "\n"
      ],
      "metadata": {
        "colab": {
          "base_uri": "https://localhost:8080/"
        },
        "id": "3Yi9MStOtVai",
        "outputId": "8dd9c111-9ed2-4b3f-f208-15d80710a255"
      },
      "execution_count": null,
      "outputs": [
        {
          "output_type": "stream",
          "name": "stdout",
          "text": [
            "25\n"
          ]
        }
      ]
    },
    {
      "cell_type": "code",
      "source": [
        "\n",
        "# method 2: Using the \"sum\" inbuilt function\n",
        "\n",
        "def sum_list():\n",
        "  Q = [3, 0, 10, 4, 5, 3]\n",
        "  addition = sum(Q)\n",
        "  return addition\n",
        "\n",
        "B = sum_list()\n",
        "print(B)"
      ],
      "metadata": {
        "colab": {
          "base_uri": "https://localhost:8080/"
        },
        "id": "LxC28rSX73CT",
        "outputId": "5c444e1f-1b83-4b48-e7cd-b7586553f7e9"
      },
      "execution_count": null,
      "outputs": [
        {
          "output_type": "stream",
          "name": "stdout",
          "text": [
            "25\n"
          ]
        }
      ]
    },
    {
      "cell_type": "code",
      "source": [
        "# method 3\n",
        "\n",
        "def sum_list():\n",
        "  Q = [3, 0, 10, 4, 5, 3]\n",
        "  addition = sum(Q)\n",
        "  print(addition)\n",
        "\n",
        "sum_list()\n"
      ],
      "metadata": {
        "colab": {
          "base_uri": "https://localhost:8080/"
        },
        "id": "KP3dRHo-yg1j",
        "outputId": "1362cb1f-8b5d-4eb7-84f3-def4e6d91957"
      },
      "execution_count": null,
      "outputs": [
        {
          "output_type": "stream",
          "name": "stdout",
          "text": [
            "25\n"
          ]
        }
      ]
    },
    {
      "cell_type": "code",
      "source": [
        "\"\"\"Task 5\n",
        "Write a function that takes in a list of integers (i.e. [3, 0, 10, 4, 5, 3]) and prints the value of each element greater than 4.\"\"\"\n",
        "\n",
        "def integer_greater_than_4():\n",
        "  integer = [3, 0, 10, 4, 5, 3]\n",
        "  for num in integer:\n",
        "    if num > 4:\n",
        "      new_set = num\n",
        "      print(num)\n",
        "\n",
        "integer_greater_than_4()\n",
        "\n",
        "\n",
        "\n",
        "\n",
        "\n",
        "\n",
        "\n",
        "\n"
      ],
      "metadata": {
        "colab": {
          "base_uri": "https://localhost:8080/"
        },
        "id": "Wz1e7L3-8ynM",
        "outputId": "e1f4e3b9-1ee9-4095-869f-9c772f8eb9c2"
      },
      "execution_count": null,
      "outputs": [
        {
          "output_type": "stream",
          "name": "stdout",
          "text": [
            "10\n",
            "5\n"
          ]
        }
      ]
    },
    {
      "cell_type": "code",
      "source": [
        "# modifying the task above with a different set of intergers: [4, 5, 6, 6, 5, 4]\n",
        "\n",
        "def modification_2():\n",
        "  group = [4, 5, 6, 6,5, 4]\n",
        "  for value in group:\n",
        "    if value > 4:\n",
        "      result = value\n",
        "      print(value)\n",
        "\n",
        "modification_2()\n",
        "  "
      ],
      "metadata": {
        "colab": {
          "base_uri": "https://localhost:8080/"
        },
        "id": "yRc8wQAeImnZ",
        "outputId": "d5d99710-aadb-4fde-fbc7-1d9d699620ea"
      },
      "execution_count": null,
      "outputs": [
        {
          "output_type": "stream",
          "name": "stdout",
          "text": [
            "5\n",
            "6\n",
            "6\n",
            "5\n"
          ]
        }
      ]
    },
    {
      "cell_type": "code",
      "source": [
        "# modifying the task above with a different set of intergers:[4, 3, 2, 1]\n",
        "\n",
        "def modification_3():\n",
        "  integers = [4, 3, 2, 1]\n",
        "  for num in integers:\n",
        "    if num > 4:\n",
        "      new_set = num\n",
        "      print(num)\n",
        "\n",
        "modification_3()\n",
        "\n",
        "# no output because there is no number that is greater than 4 in this list of numbers"
      ],
      "metadata": {
        "id": "qu0MGmxgLxRo"
      },
      "execution_count": null,
      "outputs": []
    },
    {
      "cell_type": "code",
      "source": [
        "\"\"\"Optional Challenge: change your function to take in a second parameter, min_val. Now, print all values in the list greater than this value.\"\"\"\n",
        "# using intergers:[4, 3, 2, 1]\n",
        "\n",
        "def modification_4():\n",
        "  integers = [4, 3, 2, 1]\n",
        "  min_val = min(integers)\n",
        "  for num in integers:\n",
        "    if num > min_val:\n",
        "      new_set = num\n",
        "      print(num)\n",
        "\n",
        "modification_4()\n",
        "\n",
        "\n",
        "  "
      ],
      "metadata": {
        "colab": {
          "base_uri": "https://localhost:8080/"
        },
        "id": "cbM8h4evNRSN",
        "outputId": "725a5a16-7098-425e-f79c-f5b27e4e09e0"
      },
      "execution_count": null,
      "outputs": [
        {
          "output_type": "stream",
          "name": "stdout",
          "text": [
            "4\n",
            "3\n",
            "2\n"
          ]
        }
      ]
    },
    {
      "cell_type": "code",
      "source": [
        "# modifying the above task with a maximum value: \n",
        "# Task is not in ReDI School course website, but introduced by Andrew\n",
        "\n",
        "\"\"\"Optional Challenge: change your function to take in a second parameter, max_val. Now, print all values in the list lower than this value.\"\"\"\n",
        "# using intergers:[4, 3, 2, 1]\n",
        "\n",
        "def modification_5():\n",
        "  integers = [4, 3, 2, 1]\n",
        "  maximum_value = max(integers)\n",
        "  for num in integers:\n",
        "    if num < max(integers):\n",
        "      new_set = num\n",
        "      print(num)\n",
        "\n",
        "modification_5()\n",
        "\n",
        "\n"
      ],
      "metadata": {
        "colab": {
          "base_uri": "https://localhost:8080/"
        },
        "id": "ECrSm4vkQvl9",
        "outputId": "e50cec71-7c40-495c-8251-4506344d35f0"
      },
      "execution_count": null,
      "outputs": [
        {
          "output_type": "stream",
          "name": "stdout",
          "text": [
            "3\n",
            "2\n",
            "1\n"
          ]
        }
      ]
    },
    {
      "cell_type": "code",
      "source": [
        "\"\"\"(Challenge) Task 6 (parts 1, 2)\n",
        "Note: this one is optional and meant to be challenging! :)\n",
        "\n",
        "Like with task 4, do not use the Python function max in your function, but you can use this to test it out!\n",
        "\n",
        "Part 1: Write a function that takes in a list of integers (i.e. [3, 0, 10, 4, 5, 3]) and returns largest value in the list.\n",
        "Part 2: Write a function that takes in a list of strings (i.e. ['a', 'asdf', '']) and returns the longest string in the list.\"\"\"\n",
        "\n",
        "# note! I couldn't solve this task without using the inbuilt functions of python for this kind of task. I will get back to it later\n",
        "\n",
        "# Part 1:\n",
        "# Write a function that takes in a list of integers (i.e. [3, 0, 10, 4, 5, 3]) and returns largest value in the list.\n",
        "\n",
        "def largest_value():\n",
        "  integers = [3, 0, 10, 4, 5, 3]\n",
        "  biggest_number = max(integers)\n",
        "  print(biggest_number)\n",
        "\n",
        "largest_value()\n",
        "\n",
        "\n"
      ],
      "metadata": {
        "colab": {
          "base_uri": "https://localhost:8080/"
        },
        "id": "wLcNW0mvNBm4",
        "outputId": "508aadee-becc-4617-9793-411754553f65"
      },
      "execution_count": null,
      "outputs": [
        {
          "output_type": "stream",
          "name": "stdout",
          "text": [
            "10\n"
          ]
        }
      ]
    },
    {
      "cell_type": "code",
      "source": [
        "# Part 2:\n",
        "# Write a function that takes in a list of strings (i.e. ['a', 'asdf', '']) and returns the longest string in the list.\n",
        "\n",
        "def longest_strings():\n",
        "  string = [\"a\", \"asdf\", \"\"]\n",
        "  longest = max(string)\n",
        "  print(longest)\n",
        "\n",
        "longest_strings()\n"
      ],
      "metadata": {
        "colab": {
          "base_uri": "https://localhost:8080/"
        },
        "id": "TwumZf0gVZH0",
        "outputId": "071985be-55af-439a-d2ff-4515192c04fe"
      },
      "execution_count": null,
      "outputs": [
        {
          "output_type": "stream",
          "name": "stdout",
          "text": [
            "asdf\n"
          ]
        }
      ]
    },
    {
      "cell_type": "code",
      "source": [
        "\"\"\"(Challenge) Task 7 (parts 1, 2, 3)\n",
        "Note: this one is optional and meant to be challenging! :)\n",
        "\n",
        "Part 1: Write a function that takes in an integer and prints all numbers below it that are divisible by 3. \n",
        "(Hint: recall Task 2 -- how can you check if a number is divisible by 3?)\n",
        "\n",
        "Part 2: Modify the function to return how many numbers are divisible by 3, in addition to printing each number. \n",
        "(i.e. the returned value for the example input above would be 4 (0, 3, 6, 9)).\n",
        "\n",
        "Part 3: Modify this function to make it general -- if the function takes in n and k, \n",
        "find out how many numbers less than n are divisible by k.\"\"\"\n",
        "\n",
        "# Solution\n",
        "\n",
        "# Part 1:\n",
        "# Write a function that takes in an integer and prints all numbers below it that are divisible by 3. \n",
        "# (Hint: recall Task 2 -- how can you check if a number is divisible by 3?)\n",
        "\n",
        "def divisible_by_3():\n",
        "  integer = input(\"Please enter a number: \")\n",
        "  for num in integer:\n",
        "    if num % 3 != 0:\n",
        "      print(\"Hello, great job\")\n",
        "    else:\n",
        "      print(num)\n",
        "\n",
        "divisible_by_3()\n",
        "\n",
        "\n",
        "\n",
        "  \n",
        "\n",
        "\n",
        "\n"
      ],
      "metadata": {
        "colab": {
          "base_uri": "https://localhost:8080/",
          "height": 373
        },
        "id": "vZhpyCdfWg3F",
        "outputId": "23990a94-0ed5-42fb-c8aa-5e8737c67da8"
      },
      "execution_count": null,
      "outputs": [
        {
          "name": "stdout",
          "output_type": "stream",
          "text": [
            "Please enter a number: 10\n"
          ]
        },
        {
          "output_type": "error",
          "ename": "TypeError",
          "evalue": "ignored",
          "traceback": [
            "\u001b[0;31m---------------------------------------------------------------------------\u001b[0m",
            "\u001b[0;31mTypeError\u001b[0m                                 Traceback (most recent call last)",
            "\u001b[0;32m<ipython-input-91-b2eaf5d019cc>\u001b[0m in \u001b[0;36m<module>\u001b[0;34m()\u001b[0m\n\u001b[1;32m     25\u001b[0m       \u001b[0mprint\u001b[0m\u001b[0;34m(\u001b[0m\u001b[0mnum\u001b[0m\u001b[0;34m)\u001b[0m\u001b[0;34m\u001b[0m\u001b[0;34m\u001b[0m\u001b[0m\n\u001b[1;32m     26\u001b[0m \u001b[0;34m\u001b[0m\u001b[0m\n\u001b[0;32m---> 27\u001b[0;31m \u001b[0mdivisible_by_3\u001b[0m\u001b[0;34m(\u001b[0m\u001b[0;34m)\u001b[0m\u001b[0;34m\u001b[0m\u001b[0;34m\u001b[0m\u001b[0m\n\u001b[0m\u001b[1;32m     28\u001b[0m \u001b[0;34m\u001b[0m\u001b[0m\n\u001b[1;32m     29\u001b[0m \u001b[0;34m\u001b[0m\u001b[0m\n",
            "\u001b[0;32m<ipython-input-91-b2eaf5d019cc>\u001b[0m in \u001b[0;36mdivisible_by_3\u001b[0;34m()\u001b[0m\n\u001b[1;32m     20\u001b[0m   \u001b[0minteger\u001b[0m \u001b[0;34m=\u001b[0m \u001b[0minput\u001b[0m\u001b[0;34m(\u001b[0m\u001b[0;34m\"Please enter a number: \"\u001b[0m\u001b[0;34m)\u001b[0m\u001b[0;34m\u001b[0m\u001b[0;34m\u001b[0m\u001b[0m\n\u001b[1;32m     21\u001b[0m   \u001b[0;32mfor\u001b[0m \u001b[0mnum\u001b[0m \u001b[0;32min\u001b[0m \u001b[0minteger\u001b[0m\u001b[0;34m:\u001b[0m\u001b[0;34m\u001b[0m\u001b[0;34m\u001b[0m\u001b[0m\n\u001b[0;32m---> 22\u001b[0;31m     \u001b[0;32mif\u001b[0m \u001b[0mnum\u001b[0m \u001b[0;34m%\u001b[0m \u001b[0;36m3\u001b[0m \u001b[0;34m!=\u001b[0m \u001b[0;36m0\u001b[0m\u001b[0;34m:\u001b[0m\u001b[0;34m\u001b[0m\u001b[0;34m\u001b[0m\u001b[0m\n\u001b[0m\u001b[1;32m     23\u001b[0m       \u001b[0mprint\u001b[0m\u001b[0;34m(\u001b[0m\u001b[0;34m\"Hello, great job\"\u001b[0m\u001b[0;34m)\u001b[0m\u001b[0;34m\u001b[0m\u001b[0;34m\u001b[0m\u001b[0m\n\u001b[1;32m     24\u001b[0m     \u001b[0;32melse\u001b[0m\u001b[0;34m:\u001b[0m\u001b[0;34m\u001b[0m\u001b[0;34m\u001b[0m\u001b[0m\n",
            "\u001b[0;31mTypeError\u001b[0m: not all arguments converted during string formatting"
          ]
        }
      ]
    }
  ]
}